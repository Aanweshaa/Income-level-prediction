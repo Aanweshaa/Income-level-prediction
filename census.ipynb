{
 "cells": [
  {
   "cell_type": "code",
   "execution_count": 1,
   "id": "bd4b708c",
   "metadata": {},
   "outputs": [
    {
     "name": "stderr",
     "output_type": "stream",
     "text": [
      "Installing package into 'C:/Users/anwes/AppData/Local/R/win-library/4.2'\n",
      "(as 'lib' is unspecified)\n",
      "\n"
     ]
    },
    {
     "name": "stdout",
     "output_type": "stream",
     "text": [
      "package 'dplyr' successfully unpacked and MD5 sums checked\n"
     ]
    },
    {
     "name": "stderr",
     "output_type": "stream",
     "text": [
      "Warning message:\n",
      "\"cannot remove prior installation of package 'dplyr'\"\n",
      "Warning message in file.copy(savedcopy, lib, recursive = TRUE):\n",
      "\"problem copying C:\\Users\\anwes\\AppData\\Local\\R\\win-library\\4.2\\00LOCK\\dplyr\\libs\\x64\\dplyr.dll to C:\\Users\\anwes\\AppData\\Local\\R\\win-library\\4.2\\dplyr\\libs\\x64\\dplyr.dll: Permission denied\"\n",
      "Warning message:\n",
      "\"restored 'dplyr'\"\n"
     ]
    },
    {
     "name": "stdout",
     "output_type": "stream",
     "text": [
      "\n",
      "The downloaded binary packages are in\n",
      "\tC:\\Users\\anwes\\AppData\\Local\\Temp\\RtmpWagJ5e\\downloaded_packages\n"
     ]
    },
    {
     "name": "stderr",
     "output_type": "stream",
     "text": [
      "\n",
      "Attaching package: 'dplyr'\n",
      "\n",
      "\n",
      "The following objects are masked from 'package:stats':\n",
      "\n",
      "    filter, lag\n",
      "\n",
      "\n",
      "The following objects are masked from 'package:base':\n",
      "\n",
      "    intersect, setdiff, setequal, union\n",
      "\n",
      "\n",
      "Installing package into 'C:/Users/anwes/AppData/Local/R/win-library/4.2'\n",
      "(as 'lib' is unspecified)\n",
      "\n"
     ]
    },
    {
     "name": "stdout",
     "output_type": "stream",
     "text": [
      "package 'caTools' successfully unpacked and MD5 sums checked\n"
     ]
    },
    {
     "name": "stderr",
     "output_type": "stream",
     "text": [
      "Warning message:\n",
      "\"cannot remove prior installation of package 'caTools'\"\n",
      "Warning message in file.copy(savedcopy, lib, recursive = TRUE):\n",
      "\"problem copying C:\\Users\\anwes\\AppData\\Local\\R\\win-library\\4.2\\00LOCK\\caTools\\libs\\x64\\caTools.dll to C:\\Users\\anwes\\AppData\\Local\\R\\win-library\\4.2\\caTools\\libs\\x64\\caTools.dll: Permission denied\"\n",
      "Warning message:\n",
      "\"restored 'caTools'\"\n"
     ]
    },
    {
     "name": "stdout",
     "output_type": "stream",
     "text": [
      "\n",
      "The downloaded binary packages are in\n",
      "\tC:\\Users\\anwes\\AppData\\Local\\Temp\\RtmpWagJ5e\\downloaded_packages\n"
     ]
    },
    {
     "name": "stderr",
     "output_type": "stream",
     "text": [
      "Installing package into 'C:/Users/anwes/AppData/Local/R/win-library/4.2'\n",
      "(as 'lib' is unspecified)\n",
      "\n"
     ]
    },
    {
     "name": "stdout",
     "output_type": "stream",
     "text": [
      "package 'randomForest' successfully unpacked and MD5 sums checked\n",
      "\n",
      "The downloaded binary packages are in\n",
      "\tC:\\Users\\anwes\\AppData\\Local\\Temp\\RtmpWagJ5e\\downloaded_packages\n"
     ]
    },
    {
     "name": "stderr",
     "output_type": "stream",
     "text": [
      "randomForest 4.7-1.1\n",
      "\n",
      "Type rfNews() to see new features/changes/bug fixes.\n",
      "\n",
      "\n",
      "Attaching package: 'randomForest'\n",
      "\n",
      "\n",
      "The following object is masked from 'package:dplyr':\n",
      "\n",
      "    combine\n",
      "\n",
      "\n",
      "Installing package into 'C:/Users/anwes/AppData/Local/R/win-library/4.2'\n",
      "(as 'lib' is unspecified)\n",
      "\n"
     ]
    },
    {
     "name": "stdout",
     "output_type": "stream",
     "text": [
      "package 'caret' successfully unpacked and MD5 sums checked\n",
      "\n",
      "The downloaded binary packages are in\n",
      "\tC:\\Users\\anwes\\AppData\\Local\\Temp\\RtmpWagJ5e\\downloaded_packages\n"
     ]
    },
    {
     "name": "stderr",
     "output_type": "stream",
     "text": [
      "Loading required package: ggplot2\n",
      "\n",
      "\n",
      "Attaching package: 'ggplot2'\n",
      "\n",
      "\n",
      "The following object is masked from 'package:randomForest':\n",
      "\n",
      "    margin\n",
      "\n",
      "\n",
      "Loading required package: lattice\n",
      "\n",
      "corrplot 0.92 loaded\n",
      "\n",
      "Loading required package: colorspace\n",
      "\n",
      "Loading required package: grid\n",
      "\n",
      "VIM is ready to use.\n",
      "\n",
      "\n",
      "Suggestions and bug-reports can be submitted at: https://github.com/statistikat/VIM/issues\n",
      "\n",
      "\n",
      "Attaching package: 'VIM'\n",
      "\n",
      "\n",
      "The following object is masked from 'package:datasets':\n",
      "\n",
      "    sleep\n",
      "\n",
      "\n"
     ]
    }
   ],
   "source": [
    "install.packages(\"dplyr\")                       # Install dplyr for data manipulation\n",
    "library(\"dplyr\")                                # Load dplyr\n",
    "\n",
    "# Installing the package \n",
    "install.packages(\"caTools\")    # For Logistic regression \n",
    "library(caTools)\n",
    "\n",
    "install.packages('randomForest') # For generating random forest model\n",
    "library(randomForest)\n",
    "\n",
    "install.packages('caret')                    # classification and regression training : The library caret has a function to make prediction.\n",
    "library(caret)\n",
    "\n",
    "library(corrplot)                            # Correlation matrix\n",
    "\n",
    "library(rpart)                               # for random Forest\n",
    "\n",
    "library(VIM)\n",
    "library(magrittr)"
   ]
  },
  {
   "cell_type": "code",
   "execution_count": 2,
   "id": "d498aabf",
   "metadata": {},
   "outputs": [],
   "source": [
    "censusdata = read.csv(\"E:\\\\DMML\\\\project\\\\data\\\\salary.csv\")\n",
    "#load the data in to data frame\n",
    "censusdata = data.frame(censusdata)"
   ]
  },
  {
   "cell_type": "code",
   "execution_count": 3,
   "id": "7c1af209",
   "metadata": {},
   "outputs": [],
   "source": [
    "censusdata$salary=as.factor(censusdata$salary)"
   ]
  },
  {
   "cell_type": "code",
   "execution_count": 4,
   "id": "22876e82",
   "metadata": {},
   "outputs": [
    {
     "data": {
      "text/html": [
       "<table class=\"dataframe\">\n",
       "<caption>A data.frame: 6 × 15</caption>\n",
       "<thead>\n",
       "\t<tr><th></th><th scope=col>age</th><th scope=col>workclass</th><th scope=col>fnlwgt</th><th scope=col>education</th><th scope=col>education.num</th><th scope=col>marital.status</th><th scope=col>occupation</th><th scope=col>relationship</th><th scope=col>race</th><th scope=col>sex</th><th scope=col>capital.gain</th><th scope=col>capital.loss</th><th scope=col>hours.per.week</th><th scope=col>native.country</th><th scope=col>salary</th></tr>\n",
       "\t<tr><th></th><th scope=col>&lt;int&gt;</th><th scope=col>&lt;chr&gt;</th><th scope=col>&lt;int&gt;</th><th scope=col>&lt;chr&gt;</th><th scope=col>&lt;int&gt;</th><th scope=col>&lt;chr&gt;</th><th scope=col>&lt;chr&gt;</th><th scope=col>&lt;chr&gt;</th><th scope=col>&lt;chr&gt;</th><th scope=col>&lt;chr&gt;</th><th scope=col>&lt;int&gt;</th><th scope=col>&lt;int&gt;</th><th scope=col>&lt;int&gt;</th><th scope=col>&lt;chr&gt;</th><th scope=col>&lt;fct&gt;</th></tr>\n",
       "</thead>\n",
       "<tbody>\n",
       "\t<tr><th scope=row>1</th><td>39</td><td><span style=white-space:pre-wrap> State-gov       </span></td><td> 77516</td><td> Bachelors</td><td>13</td><td><span style=white-space:pre-wrap> Never-married     </span></td><td><span style=white-space:pre-wrap> Adm-clerical     </span></td><td> Not-in-family</td><td> White</td><td><span style=white-space:pre-wrap> Male  </span></td><td>2174</td><td>0</td><td>40</td><td> United-States</td><td> &lt;=50K</td></tr>\n",
       "\t<tr><th scope=row>2</th><td>50</td><td> Self-emp-not-inc</td><td> 83311</td><td> Bachelors</td><td>13</td><td> Married-civ-spouse</td><td><span style=white-space:pre-wrap> Exec-managerial  </span></td><td><span style=white-space:pre-wrap> Husband      </span></td><td> White</td><td><span style=white-space:pre-wrap> Male  </span></td><td><span style=white-space:pre-wrap>   0</span></td><td>0</td><td>13</td><td> United-States</td><td> &lt;=50K</td></tr>\n",
       "\t<tr><th scope=row>3</th><td>38</td><td><span style=white-space:pre-wrap> Private         </span></td><td>215646</td><td><span style=white-space:pre-wrap> HS-grad  </span></td><td> 9</td><td><span style=white-space:pre-wrap> Divorced          </span></td><td> Handlers-cleaners</td><td> Not-in-family</td><td> White</td><td><span style=white-space:pre-wrap> Male  </span></td><td><span style=white-space:pre-wrap>   0</span></td><td>0</td><td>40</td><td> United-States</td><td> &lt;=50K</td></tr>\n",
       "\t<tr><th scope=row>4</th><td>53</td><td><span style=white-space:pre-wrap> Private         </span></td><td>234721</td><td><span style=white-space:pre-wrap> 11th     </span></td><td> 7</td><td> Married-civ-spouse</td><td> Handlers-cleaners</td><td><span style=white-space:pre-wrap> Husband      </span></td><td> Black</td><td><span style=white-space:pre-wrap> Male  </span></td><td><span style=white-space:pre-wrap>   0</span></td><td>0</td><td>40</td><td> United-States</td><td> &lt;=50K</td></tr>\n",
       "\t<tr><th scope=row>5</th><td>28</td><td><span style=white-space:pre-wrap> Private         </span></td><td>338409</td><td> Bachelors</td><td>13</td><td> Married-civ-spouse</td><td><span style=white-space:pre-wrap> Prof-specialty   </span></td><td><span style=white-space:pre-wrap> Wife         </span></td><td> Black</td><td> Female</td><td><span style=white-space:pre-wrap>   0</span></td><td>0</td><td>40</td><td><span style=white-space:pre-wrap> Cuba         </span></td><td> &lt;=50K</td></tr>\n",
       "\t<tr><th scope=row>6</th><td>37</td><td><span style=white-space:pre-wrap> Private         </span></td><td>284582</td><td><span style=white-space:pre-wrap> Masters  </span></td><td>14</td><td> Married-civ-spouse</td><td><span style=white-space:pre-wrap> Exec-managerial  </span></td><td><span style=white-space:pre-wrap> Wife         </span></td><td> White</td><td> Female</td><td><span style=white-space:pre-wrap>   0</span></td><td>0</td><td>40</td><td> United-States</td><td> &lt;=50K</td></tr>\n",
       "</tbody>\n",
       "</table>\n"
      ],
      "text/latex": [
       "A data.frame: 6 × 15\n",
       "\\begin{tabular}{r|lllllllllllllll}\n",
       "  & age & workclass & fnlwgt & education & education.num & marital.status & occupation & relationship & race & sex & capital.gain & capital.loss & hours.per.week & native.country & salary\\\\\n",
       "  & <int> & <chr> & <int> & <chr> & <int> & <chr> & <chr> & <chr> & <chr> & <chr> & <int> & <int> & <int> & <chr> & <fct>\\\\\n",
       "\\hline\n",
       "\t1 & 39 &  State-gov        &  77516 &  Bachelors & 13 &  Never-married      &  Adm-clerical      &  Not-in-family &  White &  Male   & 2174 & 0 & 40 &  United-States &  <=50K\\\\\n",
       "\t2 & 50 &  Self-emp-not-inc &  83311 &  Bachelors & 13 &  Married-civ-spouse &  Exec-managerial   &  Husband       &  White &  Male   &    0 & 0 & 13 &  United-States &  <=50K\\\\\n",
       "\t3 & 38 &  Private          & 215646 &  HS-grad   &  9 &  Divorced           &  Handlers-cleaners &  Not-in-family &  White &  Male   &    0 & 0 & 40 &  United-States &  <=50K\\\\\n",
       "\t4 & 53 &  Private          & 234721 &  11th      &  7 &  Married-civ-spouse &  Handlers-cleaners &  Husband       &  Black &  Male   &    0 & 0 & 40 &  United-States &  <=50K\\\\\n",
       "\t5 & 28 &  Private          & 338409 &  Bachelors & 13 &  Married-civ-spouse &  Prof-specialty    &  Wife          &  Black &  Female &    0 & 0 & 40 &  Cuba          &  <=50K\\\\\n",
       "\t6 & 37 &  Private          & 284582 &  Masters   & 14 &  Married-civ-spouse &  Exec-managerial   &  Wife          &  White &  Female &    0 & 0 & 40 &  United-States &  <=50K\\\\\n",
       "\\end{tabular}\n"
      ],
      "text/markdown": [
       "\n",
       "A data.frame: 6 × 15\n",
       "\n",
       "| <!--/--> | age &lt;int&gt; | workclass &lt;chr&gt; | fnlwgt &lt;int&gt; | education &lt;chr&gt; | education.num &lt;int&gt; | marital.status &lt;chr&gt; | occupation &lt;chr&gt; | relationship &lt;chr&gt; | race &lt;chr&gt; | sex &lt;chr&gt; | capital.gain &lt;int&gt; | capital.loss &lt;int&gt; | hours.per.week &lt;int&gt; | native.country &lt;chr&gt; | salary &lt;fct&gt; |\n",
       "|---|---|---|---|---|---|---|---|---|---|---|---|---|---|---|---|\n",
       "| 1 | 39 |  State-gov        |  77516 |  Bachelors | 13 |  Never-married      |  Adm-clerical      |  Not-in-family |  White |  Male   | 2174 | 0 | 40 |  United-States |  &lt;=50K |\n",
       "| 2 | 50 |  Self-emp-not-inc |  83311 |  Bachelors | 13 |  Married-civ-spouse |  Exec-managerial   |  Husband       |  White |  Male   |    0 | 0 | 13 |  United-States |  &lt;=50K |\n",
       "| 3 | 38 |  Private          | 215646 |  HS-grad   |  9 |  Divorced           |  Handlers-cleaners |  Not-in-family |  White |  Male   |    0 | 0 | 40 |  United-States |  &lt;=50K |\n",
       "| 4 | 53 |  Private          | 234721 |  11th      |  7 |  Married-civ-spouse |  Handlers-cleaners |  Husband       |  Black |  Male   |    0 | 0 | 40 |  United-States |  &lt;=50K |\n",
       "| 5 | 28 |  Private          | 338409 |  Bachelors | 13 |  Married-civ-spouse |  Prof-specialty    |  Wife          |  Black |  Female |    0 | 0 | 40 |  Cuba          |  &lt;=50K |\n",
       "| 6 | 37 |  Private          | 284582 |  Masters   | 14 |  Married-civ-spouse |  Exec-managerial   |  Wife          |  White |  Female |    0 | 0 | 40 |  United-States |  &lt;=50K |\n",
       "\n"
      ],
      "text/plain": [
       "  age workclass         fnlwgt education  education.num marital.status     \n",
       "1 39   State-gov         77516  Bachelors 13             Never-married     \n",
       "2 50   Self-emp-not-inc  83311  Bachelors 13             Married-civ-spouse\n",
       "3 38   Private          215646  HS-grad    9             Divorced          \n",
       "4 53   Private          234721  11th       7             Married-civ-spouse\n",
       "5 28   Private          338409  Bachelors 13             Married-civ-spouse\n",
       "6 37   Private          284582  Masters   14             Married-civ-spouse\n",
       "  occupation         relationship   race   sex     capital.gain capital.loss\n",
       "1  Adm-clerical       Not-in-family  White  Male   2174         0           \n",
       "2  Exec-managerial    Husband        White  Male      0         0           \n",
       "3  Handlers-cleaners  Not-in-family  White  Male      0         0           \n",
       "4  Handlers-cleaners  Husband        Black  Male      0         0           \n",
       "5  Prof-specialty     Wife           Black  Female    0         0           \n",
       "6  Exec-managerial    Wife           White  Female    0         0           \n",
       "  hours.per.week native.country salary\n",
       "1 40              United-States  <=50K\n",
       "2 13              United-States  <=50K\n",
       "3 40              United-States  <=50K\n",
       "4 40              United-States  <=50K\n",
       "5 40              Cuba           <=50K\n",
       "6 40              United-States  <=50K"
      ]
     },
     "metadata": {},
     "output_type": "display_data"
    }
   ],
   "source": [
    "head(censusdata)"
   ]
  },
  {
   "cell_type": "code",
   "execution_count": 5,
   "id": "e97ed91a",
   "metadata": {},
   "outputs": [
    {
     "data": {
      "text/plain": [
       "      age         workclass             fnlwgt         education        \n",
       " Min.   :17.00   Length:32561       Min.   :  12285   Length:32561      \n",
       " 1st Qu.:28.00   Class :character   1st Qu.: 117827   Class :character  \n",
       " Median :37.00   Mode  :character   Median : 178356   Mode  :character  \n",
       " Mean   :38.58                      Mean   : 189778                     \n",
       " 3rd Qu.:48.00                      3rd Qu.: 237051                     \n",
       " Max.   :90.00                      Max.   :1484705                     \n",
       " education.num   marital.status      occupation        relationship      \n",
       " Min.   : 1.00   Length:32561       Length:32561       Length:32561      \n",
       " 1st Qu.: 9.00   Class :character   Class :character   Class :character  \n",
       " Median :10.00   Mode  :character   Mode  :character   Mode  :character  \n",
       " Mean   :10.08                                                           \n",
       " 3rd Qu.:12.00                                                           \n",
       " Max.   :16.00                                                           \n",
       "     race               sex             capital.gain    capital.loss   \n",
       " Length:32561       Length:32561       Min.   :    0   Min.   :   0.0  \n",
       " Class :character   Class :character   1st Qu.:    0   1st Qu.:   0.0  \n",
       " Mode  :character   Mode  :character   Median :    0   Median :   0.0  \n",
       "                                       Mean   : 1078   Mean   :  87.3  \n",
       "                                       3rd Qu.:    0   3rd Qu.:   0.0  \n",
       "                                       Max.   :99999   Max.   :4356.0  \n",
       " hours.per.week  native.country        salary     \n",
       " Min.   : 1.00   Length:32561        <=50K:24720  \n",
       " 1st Qu.:40.00   Class :character    >50K : 7841  \n",
       " Median :40.00   Mode  :character                 \n",
       " Mean   :40.44                                    \n",
       " 3rd Qu.:45.00                                    \n",
       " Max.   :99.00                                    "
      ]
     },
     "metadata": {},
     "output_type": "display_data"
    }
   ],
   "source": [
    "summary(censusdata)"
   ]
  },
  {
   "cell_type": "code",
   "execution_count": 6,
   "id": "ae176e6d",
   "metadata": {},
   "outputs": [],
   "source": [
    "#mydata[mydata == \"?\"] <- NA\n",
    "idx <- censusdata == \" ?\"\n",
    "# replace elements with NA\n",
    "is.na(censusdata) <- idx"
   ]
  },
  {
   "cell_type": "code",
   "execution_count": 7,
   "id": "5d36245c",
   "metadata": {
    "scrolled": true
   },
   "outputs": [
    {
     "data": {
      "text/html": [
       "<table class=\"dataframe\">\n",
       "<caption>A data.frame: 15 × 1</caption>\n",
       "<thead>\n",
       "\t<tr><th></th><th scope=col>no_of_null_values</th></tr>\n",
       "\t<tr><th></th><th scope=col>&lt;dbl&gt;</th></tr>\n",
       "</thead>\n",
       "<tbody>\n",
       "\t<tr><th scope=row>age</th><td>   0</td></tr>\n",
       "\t<tr><th scope=row>workclass</th><td>1836</td></tr>\n",
       "\t<tr><th scope=row>fnlwgt</th><td>   0</td></tr>\n",
       "\t<tr><th scope=row>education</th><td>   0</td></tr>\n",
       "\t<tr><th scope=row>education.num</th><td>   0</td></tr>\n",
       "\t<tr><th scope=row>marital.status</th><td>   0</td></tr>\n",
       "\t<tr><th scope=row>occupation</th><td>1843</td></tr>\n",
       "\t<tr><th scope=row>relationship</th><td>   0</td></tr>\n",
       "\t<tr><th scope=row>race</th><td>   0</td></tr>\n",
       "\t<tr><th scope=row>sex</th><td>   0</td></tr>\n",
       "\t<tr><th scope=row>capital.gain</th><td>   0</td></tr>\n",
       "\t<tr><th scope=row>capital.loss</th><td>   0</td></tr>\n",
       "\t<tr><th scope=row>hours.per.week</th><td>   0</td></tr>\n",
       "\t<tr><th scope=row>native.country</th><td> 583</td></tr>\n",
       "\t<tr><th scope=row>salary</th><td>   0</td></tr>\n",
       "</tbody>\n",
       "</table>\n"
      ],
      "text/latex": [
       "A data.frame: 15 × 1\n",
       "\\begin{tabular}{r|l}\n",
       "  & no\\_of\\_null\\_values\\\\\n",
       "  & <dbl>\\\\\n",
       "\\hline\n",
       "\tage &    0\\\\\n",
       "\tworkclass & 1836\\\\\n",
       "\tfnlwgt &    0\\\\\n",
       "\teducation &    0\\\\\n",
       "\teducation.num &    0\\\\\n",
       "\tmarital.status &    0\\\\\n",
       "\toccupation & 1843\\\\\n",
       "\trelationship &    0\\\\\n",
       "\trace &    0\\\\\n",
       "\tsex &    0\\\\\n",
       "\tcapital.gain &    0\\\\\n",
       "\tcapital.loss &    0\\\\\n",
       "\thours.per.week &    0\\\\\n",
       "\tnative.country &  583\\\\\n",
       "\tsalary &    0\\\\\n",
       "\\end{tabular}\n"
      ],
      "text/markdown": [
       "\n",
       "A data.frame: 15 × 1\n",
       "\n",
       "| <!--/--> | no_of_null_values &lt;dbl&gt; |\n",
       "|---|---|\n",
       "| age |    0 |\n",
       "| workclass | 1836 |\n",
       "| fnlwgt |    0 |\n",
       "| education |    0 |\n",
       "| education.num |    0 |\n",
       "| marital.status |    0 |\n",
       "| occupation | 1843 |\n",
       "| relationship |    0 |\n",
       "| race |    0 |\n",
       "| sex |    0 |\n",
       "| capital.gain |    0 |\n",
       "| capital.loss |    0 |\n",
       "| hours.per.week |    0 |\n",
       "| native.country |  583 |\n",
       "| salary |    0 |\n",
       "\n"
      ],
      "text/plain": [
       "               no_of_null_values\n",
       "age               0             \n",
       "workclass      1836             \n",
       "fnlwgt            0             \n",
       "education         0             \n",
       "education.num     0             \n",
       "marital.status    0             \n",
       "occupation     1843             \n",
       "relationship      0             \n",
       "race              0             \n",
       "sex               0             \n",
       "capital.gain      0             \n",
       "capital.loss      0             \n",
       "hours.per.week    0             \n",
       "native.country  583             \n",
       "salary            0             "
      ]
     },
     "metadata": {},
     "output_type": "display_data"
    }
   ],
   "source": [
    "#checking for missing values in the data\n",
    "null_values=data.frame(no_of_null_values=colSums(is.na(censusdata)))\n",
    "head(null_values,15)"
   ]
  },
  {
   "cell_type": "code",
   "execution_count": 8,
   "id": "d74b2007",
   "metadata": {},
   "outputs": [
    {
     "name": "stderr",
     "output_type": "stream",
     "text": [
      "Warning message in plot.aggr(res, ...):\n",
      "\"not enough horizontal space to display frequencies\"\n"
     ]
    },
    {
     "name": "stdout",
     "output_type": "stream",
     "text": [
      "\n",
      " Variables sorted by number of missings: \n",
      "       Variable      Count\n",
      "     occupation 0.05660146\n",
      "      workclass 0.05638647\n",
      " native.country 0.01790486\n",
      "            age 0.00000000\n",
      "         fnlwgt 0.00000000\n",
      "      education 0.00000000\n",
      "  education.num 0.00000000\n",
      " marital.status 0.00000000\n",
      "   relationship 0.00000000\n",
      "           race 0.00000000\n",
      "            sex 0.00000000\n",
      "   capital.gain 0.00000000\n",
      "   capital.loss 0.00000000\n",
      " hours.per.week 0.00000000\n",
      "         salary 0.00000000\n"
     ]
    },
    {
     "data": {
      "image/png": "[encoded data removed]",
      "text/plain": [
       "plot without title"
      ]
     },
     "metadata": {
      "image/png": {
       "height": 420,
       "width": 420
      }
     },
     "output_type": "display_data"
    }
   ],
   "source": [
    "#missing data visualization\n",
    "aggr_plot <- aggr(censusdata, col=c('navyblue','red'), numbers=TRUE, sortVars=TRUE, \n",
    "              labels=names(censusdata), cex.axis=.7, gap=3, \n",
    "              ylab=c(\"Histogram of missing data\",\"Pattern\")\n",
    "              )"
   ]
  },
  {
   "cell_type": "code",
   "execution_count": 9,
   "id": "5b8d2e9b",
   "metadata": {},
   "outputs": [],
   "source": [
    "censusdata=na.omit(censusdata)"
   ]
  },
  {
   "cell_type": "code",
   "execution_count": 10,
   "id": "3c799094",
   "metadata": {},
   "outputs": [
    {
     "data": {
      "text/html": [
       "<table class=\"dataframe\">\n",
       "<caption>A data.frame: 15 × 1</caption>\n",
       "<thead>\n",
       "\t<tr><th></th><th scope=col>no_of</th></tr>\n",
       "\t<tr><th></th><th scope=col>&lt;dbl&gt;</th></tr>\n",
       "</thead>\n",
       "<tbody>\n",
       "\t<tr><th scope=row>age</th><td>0</td></tr>\n",
       "\t<tr><th scope=row>workclass</th><td>0</td></tr>\n",
       "\t<tr><th scope=row>fnlwgt</th><td>0</td></tr>\n",
       "\t<tr><th scope=row>education</th><td>0</td></tr>\n",
       "\t<tr><th scope=row>education.num</th><td>0</td></tr>\n",
       "\t<tr><th scope=row>marital.status</th><td>0</td></tr>\n",
       "\t<tr><th scope=row>occupation</th><td>0</td></tr>\n",
       "\t<tr><th scope=row>relationship</th><td>0</td></tr>\n",
       "\t<tr><th scope=row>race</th><td>0</td></tr>\n",
       "\t<tr><th scope=row>sex</th><td>0</td></tr>\n",
       "\t<tr><th scope=row>capital.gain</th><td>0</td></tr>\n",
       "\t<tr><th scope=row>capital.loss</th><td>0</td></tr>\n",
       "\t<tr><th scope=row>hours.per.week</th><td>0</td></tr>\n",
       "\t<tr><th scope=row>native.country</th><td>0</td></tr>\n",
       "\t<tr><th scope=row>salary</th><td>0</td></tr>\n",
       "</tbody>\n",
       "</table>\n"
      ],
      "text/latex": [
       "A data.frame: 15 × 1\n",
       "\\begin{tabular}{r|l}\n",
       "  & no\\_of\\\\\n",
       "  & <dbl>\\\\\n",
       "\\hline\n",
       "\tage & 0\\\\\n",
       "\tworkclass & 0\\\\\n",
       "\tfnlwgt & 0\\\\\n",
       "\teducation & 0\\\\\n",
       "\teducation.num & 0\\\\\n",
       "\tmarital.status & 0\\\\\n",
       "\toccupation & 0\\\\\n",
       "\trelationship & 0\\\\\n",
       "\trace & 0\\\\\n",
       "\tsex & 0\\\\\n",
       "\tcapital.gain & 0\\\\\n",
       "\tcapital.loss & 0\\\\\n",
       "\thours.per.week & 0\\\\\n",
       "\tnative.country & 0\\\\\n",
       "\tsalary & 0\\\\\n",
       "\\end{tabular}\n"
      ],
      "text/markdown": [
       "\n",
       "A data.frame: 15 × 1\n",
       "\n",
       "| <!--/--> | no_of &lt;dbl&gt; |\n",
       "|---|---|\n",
       "| age | 0 |\n",
       "| workclass | 0 |\n",
       "| fnlwgt | 0 |\n",
       "| education | 0 |\n",
       "| education.num | 0 |\n",
       "| marital.status | 0 |\n",
       "| occupation | 0 |\n",
       "| relationship | 0 |\n",
       "| race | 0 |\n",
       "| sex | 0 |\n",
       "| capital.gain | 0 |\n",
       "| capital.loss | 0 |\n",
       "| hours.per.week | 0 |\n",
       "| native.country | 0 |\n",
       "| salary | 0 |\n",
       "\n"
      ],
      "text/plain": [
       "               no_of\n",
       "age            0    \n",
       "workclass      0    \n",
       "fnlwgt         0    \n",
       "education      0    \n",
       "education.num  0    \n",
       "marital.status 0    \n",
       "occupation     0    \n",
       "relationship   0    \n",
       "race           0    \n",
       "sex            0    \n",
       "capital.gain   0    \n",
       "capital.loss   0    \n",
       "hours.per.week 0    \n",
       "native.country 0    \n",
       "salary         0    "
      ]
     },
     "metadata": {},
     "output_type": "display_data"
    }
   ],
   "source": [
    "#checking for missing values in the data\n",
    "null_values=data.frame(no_of=colSums(is.na(censusdata)))\n",
    "head(null_values,15)"
   ]
  },
  {
   "cell_type": "code",
   "execution_count": 11,
   "id": "4f839fcc",
   "metadata": {},
   "outputs": [
    {
     "data": {
      "text/html": [
       "23"
      ],
      "text/latex": [
       "23"
      ],
      "text/markdown": [
       "23"
      ],
      "text/plain": [
       "[1] 23"
      ]
     },
     "metadata": {},
     "output_type": "display_data"
    }
   ],
   "source": [
    "#checking for duplicate values\n",
    "sum(duplicated(censusdata))"
   ]
  },
  {
   "cell_type": "markdown",
   "id": "1b177ffd",
   "metadata": {},
   "source": []
  },
  {
   "cell_type": "code",
   "execution_count": 12,
   "id": "1ac2b340",
   "metadata": {},
   "outputs": [
    {
     "data": {
      "text/html": [
       "<table class=\"dataframe\">\n",
       "<caption>A data.frame: 30139 × 15</caption>\n",
       "<thead>\n",
       "\t<tr><th></th><th scope=col>age</th><th scope=col>workclass</th><th scope=col>fnlwgt</th><th scope=col>education</th><th scope=col>education.num</th><th scope=col>marital.status</th><th scope=col>occupation</th><th scope=col>relationship</th><th scope=col>race</th><th scope=col>sex</th><th scope=col>capital.gain</th><th scope=col>capital.loss</th><th scope=col>hours.per.week</th><th scope=col>native.country</th><th scope=col>salary</th></tr>\n",
       "\t<tr><th></th><th scope=col>&lt;int&gt;</th><th scope=col>&lt;chr&gt;</th><th scope=col>&lt;int&gt;</th><th scope=col>&lt;chr&gt;</th><th scope=col>&lt;int&gt;</th><th scope=col>&lt;chr&gt;</th><th scope=col>&lt;chr&gt;</th><th scope=col>&lt;chr&gt;</th><th scope=col>&lt;chr&gt;</th><th scope=col>&lt;chr&gt;</th><th scope=col>&lt;int&gt;</th><th scope=col>&lt;int&gt;</th><th scope=col>&lt;int&gt;</th><th scope=col>&lt;chr&gt;</th><th scope=col>&lt;fct&gt;</th></tr>\n",
       "</thead>\n",
       "<tbody>\n",
       "\t<tr><th scope=row>1</th><td>39</td><td><span style=white-space:pre-wrap> State-gov       </span></td><td> 77516</td><td><span style=white-space:pre-wrap> Bachelors   </span></td><td>13</td><td><span style=white-space:pre-wrap> Never-married        </span></td><td><span style=white-space:pre-wrap> Adm-clerical     </span></td><td> Not-in-family</td><td><span style=white-space:pre-wrap> White             </span></td><td><span style=white-space:pre-wrap> Male  </span></td><td> 2174</td><td><span style=white-space:pre-wrap>   0</span></td><td>40</td><td> United-States</td><td> &lt;=50K</td></tr>\n",
       "\t<tr><th scope=row>2</th><td>50</td><td> Self-emp-not-inc</td><td> 83311</td><td><span style=white-space:pre-wrap> Bachelors   </span></td><td>13</td><td><span style=white-space:pre-wrap> Married-civ-spouse   </span></td><td><span style=white-space:pre-wrap> Exec-managerial  </span></td><td><span style=white-space:pre-wrap> Husband      </span></td><td><span style=white-space:pre-wrap> White             </span></td><td><span style=white-space:pre-wrap> Male  </span></td><td><span style=white-space:pre-wrap>    0</span></td><td><span style=white-space:pre-wrap>   0</span></td><td>13</td><td> United-States</td><td> &lt;=50K</td></tr>\n",
       "\t<tr><th scope=row>3</th><td>38</td><td><span style=white-space:pre-wrap> Private         </span></td><td>215646</td><td><span style=white-space:pre-wrap> HS-grad     </span></td><td> 9</td><td><span style=white-space:pre-wrap> Divorced             </span></td><td> Handlers-cleaners</td><td> Not-in-family</td><td><span style=white-space:pre-wrap> White             </span></td><td><span style=white-space:pre-wrap> Male  </span></td><td><span style=white-space:pre-wrap>    0</span></td><td><span style=white-space:pre-wrap>   0</span></td><td>40</td><td> United-States</td><td> &lt;=50K</td></tr>\n",
       "\t<tr><th scope=row>4</th><td>53</td><td><span style=white-space:pre-wrap> Private         </span></td><td>234721</td><td><span style=white-space:pre-wrap> 11th        </span></td><td> 7</td><td><span style=white-space:pre-wrap> Married-civ-spouse   </span></td><td> Handlers-cleaners</td><td><span style=white-space:pre-wrap> Husband      </span></td><td><span style=white-space:pre-wrap> Black             </span></td><td><span style=white-space:pre-wrap> Male  </span></td><td><span style=white-space:pre-wrap>    0</span></td><td><span style=white-space:pre-wrap>   0</span></td><td>40</td><td> United-States</td><td> &lt;=50K</td></tr>\n",
       "\t<tr><th scope=row>5</th><td>28</td><td><span style=white-space:pre-wrap> Private         </span></td><td>338409</td><td><span style=white-space:pre-wrap> Bachelors   </span></td><td>13</td><td><span style=white-space:pre-wrap> Married-civ-spouse   </span></td><td><span style=white-space:pre-wrap> Prof-specialty   </span></td><td><span style=white-space:pre-wrap> Wife         </span></td><td><span style=white-space:pre-wrap> Black             </span></td><td> Female</td><td><span style=white-space:pre-wrap>    0</span></td><td><span style=white-space:pre-wrap>   0</span></td><td>40</td><td><span style=white-space:pre-wrap> Cuba         </span></td><td> &lt;=50K</td></tr>\n",
       "\t<tr><th scope=row>6</th><td>37</td><td><span style=white-space:pre-wrap> Private         </span></td><td>284582</td><td><span style=white-space:pre-wrap> Masters     </span></td><td>14</td><td><span style=white-space:pre-wrap> Married-civ-spouse   </span></td><td><span style=white-space:pre-wrap> Exec-managerial  </span></td><td><span style=white-space:pre-wrap> Wife         </span></td><td><span style=white-space:pre-wrap> White             </span></td><td> Female</td><td><span style=white-space:pre-wrap>    0</span></td><td><span style=white-space:pre-wrap>   0</span></td><td>40</td><td> United-States</td><td> &lt;=50K</td></tr>\n",
       "\t<tr><th scope=row>7</th><td>49</td><td><span style=white-space:pre-wrap> Private         </span></td><td>160187</td><td><span style=white-space:pre-wrap> 9th         </span></td><td> 5</td><td> Married-spouse-absent</td><td><span style=white-space:pre-wrap> Other-service    </span></td><td> Not-in-family</td><td><span style=white-space:pre-wrap> Black             </span></td><td> Female</td><td><span style=white-space:pre-wrap>    0</span></td><td><span style=white-space:pre-wrap>   0</span></td><td>16</td><td><span style=white-space:pre-wrap> Jamaica      </span></td><td> &lt;=50K</td></tr>\n",
       "\t<tr><th scope=row>8</th><td>52</td><td> Self-emp-not-inc</td><td>209642</td><td><span style=white-space:pre-wrap> HS-grad     </span></td><td> 9</td><td><span style=white-space:pre-wrap> Married-civ-spouse   </span></td><td><span style=white-space:pre-wrap> Exec-managerial  </span></td><td><span style=white-space:pre-wrap> Husband      </span></td><td><span style=white-space:pre-wrap> White             </span></td><td><span style=white-space:pre-wrap> Male  </span></td><td><span style=white-space:pre-wrap>    0</span></td><td><span style=white-space:pre-wrap>   0</span></td><td>45</td><td> United-States</td><td> &gt;50K </td></tr>\n",
       "\t<tr><th scope=row>9</th><td>31</td><td><span style=white-space:pre-wrap> Private         </span></td><td> 45781</td><td><span style=white-space:pre-wrap> Masters     </span></td><td>14</td><td><span style=white-space:pre-wrap> Never-married        </span></td><td><span style=white-space:pre-wrap> Prof-specialty   </span></td><td> Not-in-family</td><td><span style=white-space:pre-wrap> White             </span></td><td> Female</td><td>14084</td><td><span style=white-space:pre-wrap>   0</span></td><td>50</td><td> United-States</td><td> &gt;50K </td></tr>\n",
       "\t<tr><th scope=row>10</th><td>42</td><td><span style=white-space:pre-wrap> Private         </span></td><td>159449</td><td><span style=white-space:pre-wrap> Bachelors   </span></td><td>13</td><td><span style=white-space:pre-wrap> Married-civ-spouse   </span></td><td><span style=white-space:pre-wrap> Exec-managerial  </span></td><td><span style=white-space:pre-wrap> Husband      </span></td><td><span style=white-space:pre-wrap> White             </span></td><td><span style=white-space:pre-wrap> Male  </span></td><td> 5178</td><td><span style=white-space:pre-wrap>   0</span></td><td>40</td><td> United-States</td><td> &gt;50K </td></tr>\n",
       "\t<tr><th scope=row>11</th><td>37</td><td><span style=white-space:pre-wrap> Private         </span></td><td>280464</td><td> Some-college</td><td>10</td><td><span style=white-space:pre-wrap> Married-civ-spouse   </span></td><td><span style=white-space:pre-wrap> Exec-managerial  </span></td><td><span style=white-space:pre-wrap> Husband      </span></td><td><span style=white-space:pre-wrap> Black             </span></td><td><span style=white-space:pre-wrap> Male  </span></td><td><span style=white-space:pre-wrap>    0</span></td><td><span style=white-space:pre-wrap>   0</span></td><td>80</td><td> United-States</td><td> &gt;50K </td></tr>\n",
       "\t<tr><th scope=row>12</th><td>30</td><td><span style=white-space:pre-wrap> State-gov       </span></td><td>141297</td><td><span style=white-space:pre-wrap> Bachelors   </span></td><td>13</td><td><span style=white-space:pre-wrap> Married-civ-spouse   </span></td><td><span style=white-space:pre-wrap> Prof-specialty   </span></td><td><span style=white-space:pre-wrap> Husband      </span></td><td> Asian-Pac-Islander</td><td><span style=white-space:pre-wrap> Male  </span></td><td><span style=white-space:pre-wrap>    0</span></td><td><span style=white-space:pre-wrap>   0</span></td><td>40</td><td><span style=white-space:pre-wrap> India        </span></td><td> &gt;50K </td></tr>\n",
       "\t<tr><th scope=row>13</th><td>23</td><td><span style=white-space:pre-wrap> Private         </span></td><td>122272</td><td><span style=white-space:pre-wrap> Bachelors   </span></td><td>13</td><td><span style=white-space:pre-wrap> Never-married        </span></td><td><span style=white-space:pre-wrap> Adm-clerical     </span></td><td><span style=white-space:pre-wrap> Own-child    </span></td><td><span style=white-space:pre-wrap> White             </span></td><td> Female</td><td><span style=white-space:pre-wrap>    0</span></td><td><span style=white-space:pre-wrap>   0</span></td><td>30</td><td> United-States</td><td> &lt;=50K</td></tr>\n",
       "\t<tr><th scope=row>14</th><td>32</td><td><span style=white-space:pre-wrap> Private         </span></td><td>205019</td><td><span style=white-space:pre-wrap> Assoc-acdm  </span></td><td>12</td><td><span style=white-space:pre-wrap> Never-married        </span></td><td><span style=white-space:pre-wrap> Sales            </span></td><td> Not-in-family</td><td><span style=white-space:pre-wrap> Black             </span></td><td><span style=white-space:pre-wrap> Male  </span></td><td><span style=white-space:pre-wrap>    0</span></td><td><span style=white-space:pre-wrap>   0</span></td><td>50</td><td> United-States</td><td> &lt;=50K</td></tr>\n",
       "\t<tr><th scope=row>16</th><td>34</td><td><span style=white-space:pre-wrap> Private         </span></td><td>245487</td><td><span style=white-space:pre-wrap> 7th-8th     </span></td><td> 4</td><td><span style=white-space:pre-wrap> Married-civ-spouse   </span></td><td> Transport-moving </td><td><span style=white-space:pre-wrap> Husband      </span></td><td> Amer-Indian-Eskimo</td><td><span style=white-space:pre-wrap> Male  </span></td><td><span style=white-space:pre-wrap>    0</span></td><td><span style=white-space:pre-wrap>   0</span></td><td>45</td><td><span style=white-space:pre-wrap> Mexico       </span></td><td> &lt;=50K</td></tr>\n",
       "\t<tr><th scope=row>17</th><td>25</td><td> Self-emp-not-inc</td><td>176756</td><td><span style=white-space:pre-wrap> HS-grad     </span></td><td> 9</td><td><span style=white-space:pre-wrap> Never-married        </span></td><td><span style=white-space:pre-wrap> Farming-fishing  </span></td><td><span style=white-space:pre-wrap> Own-child    </span></td><td><span style=white-space:pre-wrap> White             </span></td><td><span style=white-space:pre-wrap> Male  </span></td><td><span style=white-space:pre-wrap>    0</span></td><td><span style=white-space:pre-wrap>   0</span></td><td>35</td><td> United-States</td><td> &lt;=50K</td></tr>\n",
       "\t<tr><th scope=row>18</th><td>32</td><td><span style=white-space:pre-wrap> Private         </span></td><td>186824</td><td><span style=white-space:pre-wrap> HS-grad     </span></td><td> 9</td><td><span style=white-space:pre-wrap> Never-married        </span></td><td> Machine-op-inspct</td><td><span style=white-space:pre-wrap> Unmarried    </span></td><td><span style=white-space:pre-wrap> White             </span></td><td><span style=white-space:pre-wrap> Male  </span></td><td><span style=white-space:pre-wrap>    0</span></td><td><span style=white-space:pre-wrap>   0</span></td><td>40</td><td> United-States</td><td> &lt;=50K</td></tr>\n",
       "\t<tr><th scope=row>19</th><td>38</td><td><span style=white-space:pre-wrap> Private         </span></td><td> 28887</td><td><span style=white-space:pre-wrap> 11th        </span></td><td> 7</td><td><span style=white-space:pre-wrap> Married-civ-spouse   </span></td><td><span style=white-space:pre-wrap> Sales            </span></td><td><span style=white-space:pre-wrap> Husband      </span></td><td><span style=white-space:pre-wrap> White             </span></td><td><span style=white-space:pre-wrap> Male  </span></td><td><span style=white-space:pre-wrap>    0</span></td><td><span style=white-space:pre-wrap>   0</span></td><td>50</td><td> United-States</td><td> &lt;=50K</td></tr>\n",
       "\t<tr><th scope=row>20</th><td>43</td><td> Self-emp-not-inc</td><td>292175</td><td><span style=white-space:pre-wrap> Masters     </span></td><td>14</td><td><span style=white-space:pre-wrap> Divorced             </span></td><td><span style=white-space:pre-wrap> Exec-managerial  </span></td><td><span style=white-space:pre-wrap> Unmarried    </span></td><td><span style=white-space:pre-wrap> White             </span></td><td> Female</td><td><span style=white-space:pre-wrap>    0</span></td><td><span style=white-space:pre-wrap>   0</span></td><td>45</td><td> United-States</td><td> &gt;50K </td></tr>\n",
       "\t<tr><th scope=row>21</th><td>40</td><td><span style=white-space:pre-wrap> Private         </span></td><td>193524</td><td><span style=white-space:pre-wrap> Doctorate   </span></td><td>16</td><td><span style=white-space:pre-wrap> Married-civ-spouse   </span></td><td><span style=white-space:pre-wrap> Prof-specialty   </span></td><td><span style=white-space:pre-wrap> Husband      </span></td><td><span style=white-space:pre-wrap> White             </span></td><td><span style=white-space:pre-wrap> Male  </span></td><td><span style=white-space:pre-wrap>    0</span></td><td><span style=white-space:pre-wrap>   0</span></td><td>60</td><td> United-States</td><td> &gt;50K </td></tr>\n",
       "\t<tr><th scope=row>22</th><td>54</td><td><span style=white-space:pre-wrap> Private         </span></td><td>302146</td><td><span style=white-space:pre-wrap> HS-grad     </span></td><td> 9</td><td><span style=white-space:pre-wrap> Separated            </span></td><td><span style=white-space:pre-wrap> Other-service    </span></td><td><span style=white-space:pre-wrap> Unmarried    </span></td><td><span style=white-space:pre-wrap> Black             </span></td><td> Female</td><td><span style=white-space:pre-wrap>    0</span></td><td><span style=white-space:pre-wrap>   0</span></td><td>20</td><td> United-States</td><td> &lt;=50K</td></tr>\n",
       "\t<tr><th scope=row>23</th><td>35</td><td><span style=white-space:pre-wrap> Federal-gov     </span></td><td> 76845</td><td><span style=white-space:pre-wrap> 9th         </span></td><td> 5</td><td><span style=white-space:pre-wrap> Married-civ-spouse   </span></td><td><span style=white-space:pre-wrap> Farming-fishing  </span></td><td><span style=white-space:pre-wrap> Husband      </span></td><td><span style=white-space:pre-wrap> Black             </span></td><td><span style=white-space:pre-wrap> Male  </span></td><td><span style=white-space:pre-wrap>    0</span></td><td><span style=white-space:pre-wrap>   0</span></td><td>40</td><td> United-States</td><td> &lt;=50K</td></tr>\n",
       "\t<tr><th scope=row>24</th><td>43</td><td><span style=white-space:pre-wrap> Private         </span></td><td>117037</td><td><span style=white-space:pre-wrap> 11th        </span></td><td> 7</td><td><span style=white-space:pre-wrap> Married-civ-spouse   </span></td><td> Transport-moving </td><td><span style=white-space:pre-wrap> Husband      </span></td><td><span style=white-space:pre-wrap> White             </span></td><td><span style=white-space:pre-wrap> Male  </span></td><td><span style=white-space:pre-wrap>    0</span></td><td>2042</td><td>40</td><td> United-States</td><td> &lt;=50K</td></tr>\n",
       "\t<tr><th scope=row>25</th><td>59</td><td><span style=white-space:pre-wrap> Private         </span></td><td>109015</td><td><span style=white-space:pre-wrap> HS-grad     </span></td><td> 9</td><td><span style=white-space:pre-wrap> Divorced             </span></td><td><span style=white-space:pre-wrap> Tech-support     </span></td><td><span style=white-space:pre-wrap> Unmarried    </span></td><td><span style=white-space:pre-wrap> White             </span></td><td> Female</td><td><span style=white-space:pre-wrap>    0</span></td><td><span style=white-space:pre-wrap>   0</span></td><td>40</td><td> United-States</td><td> &lt;=50K</td></tr>\n",
       "\t<tr><th scope=row>26</th><td>56</td><td><span style=white-space:pre-wrap> Local-gov       </span></td><td>216851</td><td><span style=white-space:pre-wrap> Bachelors   </span></td><td>13</td><td><span style=white-space:pre-wrap> Married-civ-spouse   </span></td><td><span style=white-space:pre-wrap> Tech-support     </span></td><td><span style=white-space:pre-wrap> Husband      </span></td><td><span style=white-space:pre-wrap> White             </span></td><td><span style=white-space:pre-wrap> Male  </span></td><td><span style=white-space:pre-wrap>    0</span></td><td><span style=white-space:pre-wrap>   0</span></td><td>40</td><td> United-States</td><td> &gt;50K </td></tr>\n",
       "\t<tr><th scope=row>27</th><td>19</td><td><span style=white-space:pre-wrap> Private         </span></td><td>168294</td><td><span style=white-space:pre-wrap> HS-grad     </span></td><td> 9</td><td><span style=white-space:pre-wrap> Never-married        </span></td><td><span style=white-space:pre-wrap> Craft-repair     </span></td><td><span style=white-space:pre-wrap> Own-child    </span></td><td><span style=white-space:pre-wrap> White             </span></td><td><span style=white-space:pre-wrap> Male  </span></td><td><span style=white-space:pre-wrap>    0</span></td><td><span style=white-space:pre-wrap>   0</span></td><td>40</td><td> United-States</td><td> &lt;=50K</td></tr>\n",
       "\t<tr><th scope=row>29</th><td>39</td><td><span style=white-space:pre-wrap> Private         </span></td><td>367260</td><td><span style=white-space:pre-wrap> HS-grad     </span></td><td> 9</td><td><span style=white-space:pre-wrap> Divorced             </span></td><td><span style=white-space:pre-wrap> Exec-managerial  </span></td><td> Not-in-family</td><td><span style=white-space:pre-wrap> White             </span></td><td><span style=white-space:pre-wrap> Male  </span></td><td><span style=white-space:pre-wrap>    0</span></td><td><span style=white-space:pre-wrap>   0</span></td><td>80</td><td> United-States</td><td> &lt;=50K</td></tr>\n",
       "\t<tr><th scope=row>30</th><td>49</td><td><span style=white-space:pre-wrap> Private         </span></td><td>193366</td><td><span style=white-space:pre-wrap> HS-grad     </span></td><td> 9</td><td><span style=white-space:pre-wrap> Married-civ-spouse   </span></td><td><span style=white-space:pre-wrap> Craft-repair     </span></td><td><span style=white-space:pre-wrap> Husband      </span></td><td><span style=white-space:pre-wrap> White             </span></td><td><span style=white-space:pre-wrap> Male  </span></td><td><span style=white-space:pre-wrap>    0</span></td><td><span style=white-space:pre-wrap>   0</span></td><td>40</td><td> United-States</td><td> &lt;=50K</td></tr>\n",
       "\t<tr><th scope=row>31</th><td>23</td><td><span style=white-space:pre-wrap> Local-gov       </span></td><td>190709</td><td><span style=white-space:pre-wrap> Assoc-acdm  </span></td><td>12</td><td><span style=white-space:pre-wrap> Never-married        </span></td><td><span style=white-space:pre-wrap> Protective-serv  </span></td><td> Not-in-family</td><td><span style=white-space:pre-wrap> White             </span></td><td><span style=white-space:pre-wrap> Male  </span></td><td><span style=white-space:pre-wrap>    0</span></td><td><span style=white-space:pre-wrap>   0</span></td><td>52</td><td> United-States</td><td> &lt;=50K</td></tr>\n",
       "\t<tr><th scope=row>32</th><td>20</td><td><span style=white-space:pre-wrap> Private         </span></td><td>266015</td><td> Some-college</td><td>10</td><td><span style=white-space:pre-wrap> Never-married        </span></td><td><span style=white-space:pre-wrap> Sales            </span></td><td><span style=white-space:pre-wrap> Own-child    </span></td><td><span style=white-space:pre-wrap> Black             </span></td><td><span style=white-space:pre-wrap> Male  </span></td><td><span style=white-space:pre-wrap>    0</span></td><td><span style=white-space:pre-wrap>   0</span></td><td>44</td><td> United-States</td><td> &lt;=50K</td></tr>\n",
       "\t<tr><th scope=row>⋮</th><td>⋮</td><td>⋮</td><td>⋮</td><td>⋮</td><td>⋮</td><td>⋮</td><td>⋮</td><td>⋮</td><td>⋮</td><td>⋮</td><td>⋮</td><td>⋮</td><td>⋮</td><td>⋮</td><td>⋮</td></tr>\n",
       "\t<tr><th scope=row>32527</th><td>32</td><td><span style=white-space:pre-wrap> Private         </span></td><td>211349</td><td><span style=white-space:pre-wrap> 10th        </span></td><td> 6</td><td> Married-civ-spouse</td><td> Transport-moving </td><td><span style=white-space:pre-wrap> Husband       </span></td><td><span style=white-space:pre-wrap> White             </span></td><td><span style=white-space:pre-wrap> Male  </span></td><td><span style=white-space:pre-wrap>    0</span></td><td>0</td><td>40</td><td> United-States</td><td> &lt;=50K</td></tr>\n",
       "\t<tr><th scope=row>32528</th><td>22</td><td><span style=white-space:pre-wrap> Private         </span></td><td>203715</td><td> Some-college</td><td>10</td><td><span style=white-space:pre-wrap> Never-married     </span></td><td><span style=white-space:pre-wrap> Adm-clerical     </span></td><td><span style=white-space:pre-wrap> Own-child     </span></td><td><span style=white-space:pre-wrap> White             </span></td><td><span style=white-space:pre-wrap> Male  </span></td><td><span style=white-space:pre-wrap>    0</span></td><td>0</td><td>40</td><td> United-States</td><td> &lt;=50K</td></tr>\n",
       "\t<tr><th scope=row>32529</th><td>31</td><td><span style=white-space:pre-wrap> Private         </span></td><td>292592</td><td><span style=white-space:pre-wrap> HS-grad     </span></td><td> 9</td><td> Married-civ-spouse</td><td> Machine-op-inspct</td><td><span style=white-space:pre-wrap> Wife          </span></td><td><span style=white-space:pre-wrap> White             </span></td><td> Female</td><td><span style=white-space:pre-wrap>    0</span></td><td>0</td><td>40</td><td> United-States</td><td> &lt;=50K</td></tr>\n",
       "\t<tr><th scope=row>32530</th><td>29</td><td><span style=white-space:pre-wrap> Private         </span></td><td>125976</td><td><span style=white-space:pre-wrap> HS-grad     </span></td><td> 9</td><td><span style=white-space:pre-wrap> Separated         </span></td><td><span style=white-space:pre-wrap> Sales            </span></td><td><span style=white-space:pre-wrap> Unmarried     </span></td><td><span style=white-space:pre-wrap> White             </span></td><td> Female</td><td><span style=white-space:pre-wrap>    0</span></td><td>0</td><td>35</td><td> United-States</td><td> &lt;=50K</td></tr>\n",
       "\t<tr><th scope=row>32533</th><td>34</td><td><span style=white-space:pre-wrap> Private         </span></td><td>204461</td><td><span style=white-space:pre-wrap> Doctorate   </span></td><td>16</td><td> Married-civ-spouse</td><td><span style=white-space:pre-wrap> Prof-specialty   </span></td><td><span style=white-space:pre-wrap> Husband       </span></td><td><span style=white-space:pre-wrap> White             </span></td><td><span style=white-space:pre-wrap> Male  </span></td><td><span style=white-space:pre-wrap>    0</span></td><td>0</td><td>60</td><td> United-States</td><td> &gt;50K </td></tr>\n",
       "\t<tr><th scope=row>32534</th><td>54</td><td><span style=white-space:pre-wrap> Private         </span></td><td>337992</td><td><span style=white-space:pre-wrap> Bachelors   </span></td><td>13</td><td> Married-civ-spouse</td><td><span style=white-space:pre-wrap> Exec-managerial  </span></td><td><span style=white-space:pre-wrap> Husband       </span></td><td> Asian-Pac-Islander</td><td><span style=white-space:pre-wrap> Male  </span></td><td><span style=white-space:pre-wrap>    0</span></td><td>0</td><td>50</td><td><span style=white-space:pre-wrap> Japan        </span></td><td> &gt;50K </td></tr>\n",
       "\t<tr><th scope=row>32535</th><td>37</td><td><span style=white-space:pre-wrap> Private         </span></td><td>179137</td><td> Some-college</td><td>10</td><td><span style=white-space:pre-wrap> Divorced          </span></td><td><span style=white-space:pre-wrap> Adm-clerical     </span></td><td><span style=white-space:pre-wrap> Unmarried     </span></td><td><span style=white-space:pre-wrap> White             </span></td><td> Female</td><td><span style=white-space:pre-wrap>    0</span></td><td>0</td><td>39</td><td> United-States</td><td> &lt;=50K</td></tr>\n",
       "\t<tr><th scope=row>32536</th><td>22</td><td><span style=white-space:pre-wrap> Private         </span></td><td>325033</td><td><span style=white-space:pre-wrap> 12th        </span></td><td> 8</td><td><span style=white-space:pre-wrap> Never-married     </span></td><td><span style=white-space:pre-wrap> Protective-serv  </span></td><td><span style=white-space:pre-wrap> Own-child     </span></td><td><span style=white-space:pre-wrap> Black             </span></td><td><span style=white-space:pre-wrap> Male  </span></td><td><span style=white-space:pre-wrap>    0</span></td><td>0</td><td>35</td><td> United-States</td><td> &lt;=50K</td></tr>\n",
       "\t<tr><th scope=row>32537</th><td>34</td><td><span style=white-space:pre-wrap> Private         </span></td><td>160216</td><td><span style=white-space:pre-wrap> Bachelors   </span></td><td>13</td><td><span style=white-space:pre-wrap> Never-married     </span></td><td><span style=white-space:pre-wrap> Exec-managerial  </span></td><td> Not-in-family </td><td><span style=white-space:pre-wrap> White             </span></td><td> Female</td><td><span style=white-space:pre-wrap>    0</span></td><td>0</td><td>55</td><td> United-States</td><td> &gt;50K </td></tr>\n",
       "\t<tr><th scope=row>32538</th><td>30</td><td><span style=white-space:pre-wrap> Private         </span></td><td>345898</td><td><span style=white-space:pre-wrap> HS-grad     </span></td><td> 9</td><td><span style=white-space:pre-wrap> Never-married     </span></td><td><span style=white-space:pre-wrap> Craft-repair     </span></td><td> Not-in-family </td><td><span style=white-space:pre-wrap> Black             </span></td><td><span style=white-space:pre-wrap> Male  </span></td><td><span style=white-space:pre-wrap>    0</span></td><td>0</td><td>46</td><td> United-States</td><td> &lt;=50K</td></tr>\n",
       "\t<tr><th scope=row>32539</th><td>38</td><td><span style=white-space:pre-wrap> Private         </span></td><td>139180</td><td><span style=white-space:pre-wrap> Bachelors   </span></td><td>13</td><td><span style=white-space:pre-wrap> Divorced          </span></td><td><span style=white-space:pre-wrap> Prof-specialty   </span></td><td><span style=white-space:pre-wrap> Unmarried     </span></td><td><span style=white-space:pre-wrap> Black             </span></td><td> Female</td><td>15020</td><td>0</td><td>45</td><td> United-States</td><td> &gt;50K </td></tr>\n",
       "\t<tr><th scope=row>32541</th><td>45</td><td><span style=white-space:pre-wrap> State-gov       </span></td><td>252208</td><td><span style=white-space:pre-wrap> HS-grad     </span></td><td> 9</td><td><span style=white-space:pre-wrap> Separated         </span></td><td><span style=white-space:pre-wrap> Adm-clerical     </span></td><td><span style=white-space:pre-wrap> Own-child     </span></td><td><span style=white-space:pre-wrap> White             </span></td><td> Female</td><td><span style=white-space:pre-wrap>    0</span></td><td>0</td><td>40</td><td> United-States</td><td> &lt;=50K</td></tr>\n",
       "\t<tr><th scope=row>32544</th><td>45</td><td><span style=white-space:pre-wrap> Local-gov       </span></td><td>119199</td><td><span style=white-space:pre-wrap> Assoc-acdm  </span></td><td>12</td><td><span style=white-space:pre-wrap> Divorced          </span></td><td><span style=white-space:pre-wrap> Prof-specialty   </span></td><td><span style=white-space:pre-wrap> Unmarried     </span></td><td><span style=white-space:pre-wrap> White             </span></td><td> Female</td><td><span style=white-space:pre-wrap>    0</span></td><td>0</td><td>48</td><td> United-States</td><td> &lt;=50K</td></tr>\n",
       "\t<tr><th scope=row>32545</th><td>31</td><td><span style=white-space:pre-wrap> Private         </span></td><td>199655</td><td><span style=white-space:pre-wrap> Masters     </span></td><td>14</td><td><span style=white-space:pre-wrap> Divorced          </span></td><td><span style=white-space:pre-wrap> Other-service    </span></td><td> Not-in-family </td><td><span style=white-space:pre-wrap> Other             </span></td><td> Female</td><td><span style=white-space:pre-wrap>    0</span></td><td>0</td><td>30</td><td> United-States</td><td> &lt;=50K</td></tr>\n",
       "\t<tr><th scope=row>32546</th><td>39</td><td><span style=white-space:pre-wrap> Local-gov       </span></td><td>111499</td><td><span style=white-space:pre-wrap> Assoc-acdm  </span></td><td>12</td><td> Married-civ-spouse</td><td><span style=white-space:pre-wrap> Adm-clerical     </span></td><td><span style=white-space:pre-wrap> Wife          </span></td><td><span style=white-space:pre-wrap> White             </span></td><td> Female</td><td><span style=white-space:pre-wrap>    0</span></td><td>0</td><td>20</td><td> United-States</td><td> &gt;50K </td></tr>\n",
       "\t<tr><th scope=row>32547</th><td>37</td><td><span style=white-space:pre-wrap> Private         </span></td><td>198216</td><td><span style=white-space:pre-wrap> Assoc-acdm  </span></td><td>12</td><td><span style=white-space:pre-wrap> Divorced          </span></td><td><span style=white-space:pre-wrap> Tech-support     </span></td><td> Not-in-family </td><td><span style=white-space:pre-wrap> White             </span></td><td> Female</td><td><span style=white-space:pre-wrap>    0</span></td><td>0</td><td>40</td><td> United-States</td><td> &lt;=50K</td></tr>\n",
       "\t<tr><th scope=row>32548</th><td>43</td><td><span style=white-space:pre-wrap> Private         </span></td><td>260761</td><td><span style=white-space:pre-wrap> HS-grad     </span></td><td> 9</td><td> Married-civ-spouse</td><td> Machine-op-inspct</td><td><span style=white-space:pre-wrap> Husband       </span></td><td><span style=white-space:pre-wrap> White             </span></td><td><span style=white-space:pre-wrap> Male  </span></td><td><span style=white-space:pre-wrap>    0</span></td><td>0</td><td>40</td><td><span style=white-space:pre-wrap> Mexico       </span></td><td> &lt;=50K</td></tr>\n",
       "\t<tr><th scope=row>32549</th><td>65</td><td> Self-emp-not-inc</td><td> 99359</td><td> Prof-school </td><td>15</td><td><span style=white-space:pre-wrap> Never-married     </span></td><td><span style=white-space:pre-wrap> Prof-specialty   </span></td><td> Not-in-family </td><td><span style=white-space:pre-wrap> White             </span></td><td><span style=white-space:pre-wrap> Male  </span></td><td> 1086</td><td>0</td><td>60</td><td> United-States</td><td> &lt;=50K</td></tr>\n",
       "\t<tr><th scope=row>32550</th><td>43</td><td><span style=white-space:pre-wrap> State-gov       </span></td><td>255835</td><td> Some-college</td><td>10</td><td><span style=white-space:pre-wrap> Divorced          </span></td><td><span style=white-space:pre-wrap> Adm-clerical     </span></td><td> Other-relative</td><td><span style=white-space:pre-wrap> White             </span></td><td> Female</td><td><span style=white-space:pre-wrap>    0</span></td><td>0</td><td>40</td><td> United-States</td><td> &lt;=50K</td></tr>\n",
       "\t<tr><th scope=row>32551</th><td>43</td><td> Self-emp-not-inc</td><td> 27242</td><td> Some-college</td><td>10</td><td> Married-civ-spouse</td><td><span style=white-space:pre-wrap> Craft-repair     </span></td><td><span style=white-space:pre-wrap> Husband       </span></td><td><span style=white-space:pre-wrap> White             </span></td><td><span style=white-space:pre-wrap> Male  </span></td><td><span style=white-space:pre-wrap>    0</span></td><td>0</td><td>50</td><td> United-States</td><td> &lt;=50K</td></tr>\n",
       "\t<tr><th scope=row>32552</th><td>32</td><td><span style=white-space:pre-wrap> Private         </span></td><td> 34066</td><td><span style=white-space:pre-wrap> 10th        </span></td><td> 6</td><td> Married-civ-spouse</td><td> Handlers-cleaners</td><td><span style=white-space:pre-wrap> Husband       </span></td><td> Amer-Indian-Eskimo</td><td><span style=white-space:pre-wrap> Male  </span></td><td><span style=white-space:pre-wrap>    0</span></td><td>0</td><td>40</td><td> United-States</td><td> &lt;=50K</td></tr>\n",
       "\t<tr><th scope=row>32553</th><td>43</td><td><span style=white-space:pre-wrap> Private         </span></td><td> 84661</td><td><span style=white-space:pre-wrap> Assoc-voc   </span></td><td>11</td><td> Married-civ-spouse</td><td><span style=white-space:pre-wrap> Sales            </span></td><td><span style=white-space:pre-wrap> Husband       </span></td><td><span style=white-space:pre-wrap> White             </span></td><td><span style=white-space:pre-wrap> Male  </span></td><td><span style=white-space:pre-wrap>    0</span></td><td>0</td><td>45</td><td> United-States</td><td> &lt;=50K</td></tr>\n",
       "\t<tr><th scope=row>32554</th><td>32</td><td><span style=white-space:pre-wrap> Private         </span></td><td>116138</td><td><span style=white-space:pre-wrap> Masters     </span></td><td>14</td><td><span style=white-space:pre-wrap> Never-married     </span></td><td><span style=white-space:pre-wrap> Tech-support     </span></td><td> Not-in-family </td><td> Asian-Pac-Islander</td><td><span style=white-space:pre-wrap> Male  </span></td><td><span style=white-space:pre-wrap>    0</span></td><td>0</td><td>11</td><td><span style=white-space:pre-wrap> Taiwan       </span></td><td> &lt;=50K</td></tr>\n",
       "\t<tr><th scope=row>32555</th><td>53</td><td><span style=white-space:pre-wrap> Private         </span></td><td>321865</td><td><span style=white-space:pre-wrap> Masters     </span></td><td>14</td><td> Married-civ-spouse</td><td><span style=white-space:pre-wrap> Exec-managerial  </span></td><td><span style=white-space:pre-wrap> Husband       </span></td><td><span style=white-space:pre-wrap> White             </span></td><td><span style=white-space:pre-wrap> Male  </span></td><td><span style=white-space:pre-wrap>    0</span></td><td>0</td><td>40</td><td> United-States</td><td> &gt;50K </td></tr>\n",
       "\t<tr><th scope=row>32556</th><td>22</td><td><span style=white-space:pre-wrap> Private         </span></td><td>310152</td><td> Some-college</td><td>10</td><td><span style=white-space:pre-wrap> Never-married     </span></td><td><span style=white-space:pre-wrap> Protective-serv  </span></td><td> Not-in-family </td><td><span style=white-space:pre-wrap> White             </span></td><td><span style=white-space:pre-wrap> Male  </span></td><td><span style=white-space:pre-wrap>    0</span></td><td>0</td><td>40</td><td> United-States</td><td> &lt;=50K</td></tr>\n",
       "\t<tr><th scope=row>32557</th><td>27</td><td><span style=white-space:pre-wrap> Private         </span></td><td>257302</td><td><span style=white-space:pre-wrap> Assoc-acdm  </span></td><td>12</td><td> Married-civ-spouse</td><td><span style=white-space:pre-wrap> Tech-support     </span></td><td><span style=white-space:pre-wrap> Wife          </span></td><td><span style=white-space:pre-wrap> White             </span></td><td> Female</td><td><span style=white-space:pre-wrap>    0</span></td><td>0</td><td>38</td><td> United-States</td><td> &lt;=50K</td></tr>\n",
       "\t<tr><th scope=row>32558</th><td>40</td><td><span style=white-space:pre-wrap> Private         </span></td><td>154374</td><td><span style=white-space:pre-wrap> HS-grad     </span></td><td> 9</td><td> Married-civ-spouse</td><td> Machine-op-inspct</td><td><span style=white-space:pre-wrap> Husband       </span></td><td><span style=white-space:pre-wrap> White             </span></td><td><span style=white-space:pre-wrap> Male  </span></td><td><span style=white-space:pre-wrap>    0</span></td><td>0</td><td>40</td><td> United-States</td><td> &gt;50K </td></tr>\n",
       "\t<tr><th scope=row>32559</th><td>58</td><td><span style=white-space:pre-wrap> Private         </span></td><td>151910</td><td><span style=white-space:pre-wrap> HS-grad     </span></td><td> 9</td><td><span style=white-space:pre-wrap> Widowed           </span></td><td><span style=white-space:pre-wrap> Adm-clerical     </span></td><td><span style=white-space:pre-wrap> Unmarried     </span></td><td><span style=white-space:pre-wrap> White             </span></td><td> Female</td><td><span style=white-space:pre-wrap>    0</span></td><td>0</td><td>40</td><td> United-States</td><td> &lt;=50K</td></tr>\n",
       "\t<tr><th scope=row>32560</th><td>22</td><td><span style=white-space:pre-wrap> Private         </span></td><td>201490</td><td><span style=white-space:pre-wrap> HS-grad     </span></td><td> 9</td><td><span style=white-space:pre-wrap> Never-married     </span></td><td><span style=white-space:pre-wrap> Adm-clerical     </span></td><td><span style=white-space:pre-wrap> Own-child     </span></td><td><span style=white-space:pre-wrap> White             </span></td><td><span style=white-space:pre-wrap> Male  </span></td><td><span style=white-space:pre-wrap>    0</span></td><td>0</td><td>20</td><td> United-States</td><td> &lt;=50K</td></tr>\n",
       "\t<tr><th scope=row>32561</th><td>52</td><td><span style=white-space:pre-wrap> Self-emp-inc    </span></td><td>287927</td><td><span style=white-space:pre-wrap> HS-grad     </span></td><td> 9</td><td> Married-civ-spouse</td><td><span style=white-space:pre-wrap> Exec-managerial  </span></td><td><span style=white-space:pre-wrap> Wife          </span></td><td><span style=white-space:pre-wrap> White             </span></td><td> Female</td><td>15024</td><td>0</td><td>40</td><td> United-States</td><td> &gt;50K </td></tr>\n",
       "</tbody>\n",
       "</table>\n"
      ],
      "text/latex": [
       "A data.frame: 30139 × 15\n",
       "\\begin{tabular}{r|lllllllllllllll}\n",
       "  & age & workclass & fnlwgt & education & education.num & marital.status & occupation & relationship & race & sex & capital.gain & capital.loss & hours.per.week & native.country & salary\\\\\n",
       "  & <int> & <chr> & <int> & <chr> & <int> & <chr> & <chr> & <chr> & <chr> & <chr> & <int> & <int> & <int> & <chr> & <fct>\\\\\n",
       "\\hline\n",
       "\t1 & 39 &  State-gov        &  77516 &  Bachelors    & 13 &  Never-married         &  Adm-clerical      &  Not-in-family &  White              &  Male   &  2174 &    0 & 40 &  United-States &  <=50K\\\\\n",
       "\t2 & 50 &  Self-emp-not-inc &  83311 &  Bachelors    & 13 &  Married-civ-spouse    &  Exec-managerial   &  Husband       &  White              &  Male   &     0 &    0 & 13 &  United-States &  <=50K\\\\\n",
       "\t3 & 38 &  Private          & 215646 &  HS-grad      &  9 &  Divorced              &  Handlers-cleaners &  Not-in-family &  White              &  Male   &     0 &    0 & 40 &  United-States &  <=50K\\\\\n",
       "\t4 & 53 &  Private          & 234721 &  11th         &  7 &  Married-civ-spouse    &  Handlers-cleaners &  Husband       &  Black              &  Male   &     0 &    0 & 40 &  United-States &  <=50K\\\\\n",
       "\t5 & 28 &  Private          & 338409 &  Bachelors    & 13 &  Married-civ-spouse    &  Prof-specialty    &  Wife          &  Black              &  Female &     0 &    0 & 40 &  Cuba          &  <=50K\\\\\n",
       "\t6 & 37 &  Private          & 284582 &  Masters      & 14 &  Married-civ-spouse    &  Exec-managerial   &  Wife          &  White              &  Female &     0 &    0 & 40 &  United-States &  <=50K\\\\\n",
       "\t7 & 49 &  Private          & 160187 &  9th          &  5 &  Married-spouse-absent &  Other-service     &  Not-in-family &  Black              &  Female &     0 &    0 & 16 &  Jamaica       &  <=50K\\\\\n",
       "\t8 & 52 &  Self-emp-not-inc & 209642 &  HS-grad      &  9 &  Married-civ-spouse    &  Exec-managerial   &  Husband       &  White              &  Male   &     0 &    0 & 45 &  United-States &  >50K \\\\\n",
       "\t9 & 31 &  Private          &  45781 &  Masters      & 14 &  Never-married         &  Prof-specialty    &  Not-in-family &  White              &  Female & 14084 &    0 & 50 &  United-States &  >50K \\\\\n",
       "\t10 & 42 &  Private          & 159449 &  Bachelors    & 13 &  Married-civ-spouse    &  Exec-managerial   &  Husband       &  White              &  Male   &  5178 &    0 & 40 &  United-States &  >50K \\\\\n",
       "\t11 & 37 &  Private          & 280464 &  Some-college & 10 &  Married-civ-spouse    &  Exec-managerial   &  Husband       &  Black              &  Male   &     0 &    0 & 80 &  United-States &  >50K \\\\\n",
       "\t12 & 30 &  State-gov        & 141297 &  Bachelors    & 13 &  Married-civ-spouse    &  Prof-specialty    &  Husband       &  Asian-Pac-Islander &  Male   &     0 &    0 & 40 &  India         &  >50K \\\\\n",
       "\t13 & 23 &  Private          & 122272 &  Bachelors    & 13 &  Never-married         &  Adm-clerical      &  Own-child     &  White              &  Female &     0 &    0 & 30 &  United-States &  <=50K\\\\\n",
       "\t14 & 32 &  Private          & 205019 &  Assoc-acdm   & 12 &  Never-married         &  Sales             &  Not-in-family &  Black              &  Male   &     0 &    0 & 50 &  United-States &  <=50K\\\\\n",
       "\t16 & 34 &  Private          & 245487 &  7th-8th      &  4 &  Married-civ-spouse    &  Transport-moving  &  Husband       &  Amer-Indian-Eskimo &  Male   &     0 &    0 & 45 &  Mexico        &  <=50K\\\\\n",
       "\t17 & 25 &  Self-emp-not-inc & 176756 &  HS-grad      &  9 &  Never-married         &  Farming-fishing   &  Own-child     &  White              &  Male   &     0 &    0 & 35 &  United-States &  <=50K\\\\\n",
       "\t18 & 32 &  Private          & 186824 &  HS-grad      &  9 &  Never-married         &  Machine-op-inspct &  Unmarried     &  White              &  Male   &     0 &    0 & 40 &  United-States &  <=50K\\\\\n",
       "\t19 & 38 &  Private          &  28887 &  11th         &  7 &  Married-civ-spouse    &  Sales             &  Husband       &  White              &  Male   &     0 &    0 & 50 &  United-States &  <=50K\\\\\n",
       "\t20 & 43 &  Self-emp-not-inc & 292175 &  Masters      & 14 &  Divorced              &  Exec-managerial   &  Unmarried     &  White              &  Female &     0 &    0 & 45 &  United-States &  >50K \\\\\n",
       "\t21 & 40 &  Private          & 193524 &  Doctorate    & 16 &  Married-civ-spouse    &  Prof-specialty    &  Husband       &  White              &  Male   &     0 &    0 & 60 &  United-States &  >50K \\\\\n",
       "\t22 & 54 &  Private          & 302146 &  HS-grad      &  9 &  Separated             &  Other-service     &  Unmarried     &  Black              &  Female &     0 &    0 & 20 &  United-States &  <=50K\\\\\n",
       "\t23 & 35 &  Federal-gov      &  76845 &  9th          &  5 &  Married-civ-spouse    &  Farming-fishing   &  Husband       &  Black              &  Male   &     0 &    0 & 40 &  United-States &  <=50K\\\\\n",
       "\t24 & 43 &  Private          & 117037 &  11th         &  7 &  Married-civ-spouse    &  Transport-moving  &  Husband       &  White              &  Male   &     0 & 2042 & 40 &  United-States &  <=50K\\\\\n",
       "\t25 & 59 &  Private          & 109015 &  HS-grad      &  9 &  Divorced              &  Tech-support      &  Unmarried     &  White              &  Female &     0 &    0 & 40 &  United-States &  <=50K\\\\\n",
       "\t26 & 56 &  Local-gov        & 216851 &  Bachelors    & 13 &  Married-civ-spouse    &  Tech-support      &  Husband       &  White              &  Male   &     0 &    0 & 40 &  United-States &  >50K \\\\\n",
       "\t27 & 19 &  Private          & 168294 &  HS-grad      &  9 &  Never-married         &  Craft-repair      &  Own-child     &  White              &  Male   &     0 &    0 & 40 &  United-States &  <=50K\\\\\n",
       "\t29 & 39 &  Private          & 367260 &  HS-grad      &  9 &  Divorced              &  Exec-managerial   &  Not-in-family &  White              &  Male   &     0 &    0 & 80 &  United-States &  <=50K\\\\\n",
       "\t30 & 49 &  Private          & 193366 &  HS-grad      &  9 &  Married-civ-spouse    &  Craft-repair      &  Husband       &  White              &  Male   &     0 &    0 & 40 &  United-States &  <=50K\\\\\n",
       "\t31 & 23 &  Local-gov        & 190709 &  Assoc-acdm   & 12 &  Never-married         &  Protective-serv   &  Not-in-family &  White              &  Male   &     0 &    0 & 52 &  United-States &  <=50K\\\\\n",
       "\t32 & 20 &  Private          & 266015 &  Some-college & 10 &  Never-married         &  Sales             &  Own-child     &  Black              &  Male   &     0 &    0 & 44 &  United-States &  <=50K\\\\\n",
       "\t⋮ & ⋮ & ⋮ & ⋮ & ⋮ & ⋮ & ⋮ & ⋮ & ⋮ & ⋮ & ⋮ & ⋮ & ⋮ & ⋮ & ⋮ & ⋮\\\\\n",
       "\t32527 & 32 &  Private          & 211349 &  10th         &  6 &  Married-civ-spouse &  Transport-moving  &  Husband        &  White              &  Male   &     0 & 0 & 40 &  United-States &  <=50K\\\\\n",
       "\t32528 & 22 &  Private          & 203715 &  Some-college & 10 &  Never-married      &  Adm-clerical      &  Own-child      &  White              &  Male   &     0 & 0 & 40 &  United-States &  <=50K\\\\\n",
       "\t32529 & 31 &  Private          & 292592 &  HS-grad      &  9 &  Married-civ-spouse &  Machine-op-inspct &  Wife           &  White              &  Female &     0 & 0 & 40 &  United-States &  <=50K\\\\\n",
       "\t32530 & 29 &  Private          & 125976 &  HS-grad      &  9 &  Separated          &  Sales             &  Unmarried      &  White              &  Female &     0 & 0 & 35 &  United-States &  <=50K\\\\\n",
       "\t32533 & 34 &  Private          & 204461 &  Doctorate    & 16 &  Married-civ-spouse &  Prof-specialty    &  Husband        &  White              &  Male   &     0 & 0 & 60 &  United-States &  >50K \\\\\n",
       "\t32534 & 54 &  Private          & 337992 &  Bachelors    & 13 &  Married-civ-spouse &  Exec-managerial   &  Husband        &  Asian-Pac-Islander &  Male   &     0 & 0 & 50 &  Japan         &  >50K \\\\\n",
       "\t32535 & 37 &  Private          & 179137 &  Some-college & 10 &  Divorced           &  Adm-clerical      &  Unmarried      &  White              &  Female &     0 & 0 & 39 &  United-States &  <=50K\\\\\n",
       "\t32536 & 22 &  Private          & 325033 &  12th         &  8 &  Never-married      &  Protective-serv   &  Own-child      &  Black              &  Male   &     0 & 0 & 35 &  United-States &  <=50K\\\\\n",
       "\t32537 & 34 &  Private          & 160216 &  Bachelors    & 13 &  Never-married      &  Exec-managerial   &  Not-in-family  &  White              &  Female &     0 & 0 & 55 &  United-States &  >50K \\\\\n",
       "\t32538 & 30 &  Private          & 345898 &  HS-grad      &  9 &  Never-married      &  Craft-repair      &  Not-in-family  &  Black              &  Male   &     0 & 0 & 46 &  United-States &  <=50K\\\\\n",
       "\t32539 & 38 &  Private          & 139180 &  Bachelors    & 13 &  Divorced           &  Prof-specialty    &  Unmarried      &  Black              &  Female & 15020 & 0 & 45 &  United-States &  >50K \\\\\n",
       "\t32541 & 45 &  State-gov        & 252208 &  HS-grad      &  9 &  Separated          &  Adm-clerical      &  Own-child      &  White              &  Female &     0 & 0 & 40 &  United-States &  <=50K\\\\\n",
       "\t32544 & 45 &  Local-gov        & 119199 &  Assoc-acdm   & 12 &  Divorced           &  Prof-specialty    &  Unmarried      &  White              &  Female &     0 & 0 & 48 &  United-States &  <=50K\\\\\n",
       "\t32545 & 31 &  Private          & 199655 &  Masters      & 14 &  Divorced           &  Other-service     &  Not-in-family  &  Other              &  Female &     0 & 0 & 30 &  United-States &  <=50K\\\\\n",
       "\t32546 & 39 &  Local-gov        & 111499 &  Assoc-acdm   & 12 &  Married-civ-spouse &  Adm-clerical      &  Wife           &  White              &  Female &     0 & 0 & 20 &  United-States &  >50K \\\\\n",
       "\t32547 & 37 &  Private          & 198216 &  Assoc-acdm   & 12 &  Divorced           &  Tech-support      &  Not-in-family  &  White              &  Female &     0 & 0 & 40 &  United-States &  <=50K\\\\\n",
       "\t32548 & 43 &  Private          & 260761 &  HS-grad      &  9 &  Married-civ-spouse &  Machine-op-inspct &  Husband        &  White              &  Male   &     0 & 0 & 40 &  Mexico        &  <=50K\\\\\n",
       "\t32549 & 65 &  Self-emp-not-inc &  99359 &  Prof-school  & 15 &  Never-married      &  Prof-specialty    &  Not-in-family  &  White              &  Male   &  1086 & 0 & 60 &  United-States &  <=50K\\\\\n",
       "\t32550 & 43 &  State-gov        & 255835 &  Some-college & 10 &  Divorced           &  Adm-clerical      &  Other-relative &  White              &  Female &     0 & 0 & 40 &  United-States &  <=50K\\\\\n",
       "\t32551 & 43 &  Self-emp-not-inc &  27242 &  Some-college & 10 &  Married-civ-spouse &  Craft-repair      &  Husband        &  White              &  Male   &     0 & 0 & 50 &  United-States &  <=50K\\\\\n",
       "\t32552 & 32 &  Private          &  34066 &  10th         &  6 &  Married-civ-spouse &  Handlers-cleaners &  Husband        &  Amer-Indian-Eskimo &  Male   &     0 & 0 & 40 &  United-States &  <=50K\\\\\n",
       "\t32553 & 43 &  Private          &  84661 &  Assoc-voc    & 11 &  Married-civ-spouse &  Sales             &  Husband        &  White              &  Male   &     0 & 0 & 45 &  United-States &  <=50K\\\\\n",
       "\t32554 & 32 &  Private          & 116138 &  Masters      & 14 &  Never-married      &  Tech-support      &  Not-in-family  &  Asian-Pac-Islander &  Male   &     0 & 0 & 11 &  Taiwan        &  <=50K\\\\\n",
       "\t32555 & 53 &  Private          & 321865 &  Masters      & 14 &  Married-civ-spouse &  Exec-managerial   &  Husband        &  White              &  Male   &     0 & 0 & 40 &  United-States &  >50K \\\\\n",
       "\t32556 & 22 &  Private          & 310152 &  Some-college & 10 &  Never-married      &  Protective-serv   &  Not-in-family  &  White              &  Male   &     0 & 0 & 40 &  United-States &  <=50K\\\\\n",
       "\t32557 & 27 &  Private          & 257302 &  Assoc-acdm   & 12 &  Married-civ-spouse &  Tech-support      &  Wife           &  White              &  Female &     0 & 0 & 38 &  United-States &  <=50K\\\\\n",
       "\t32558 & 40 &  Private          & 154374 &  HS-grad      &  9 &  Married-civ-spouse &  Machine-op-inspct &  Husband        &  White              &  Male   &     0 & 0 & 40 &  United-States &  >50K \\\\\n",
       "\t32559 & 58 &  Private          & 151910 &  HS-grad      &  9 &  Widowed            &  Adm-clerical      &  Unmarried      &  White              &  Female &     0 & 0 & 40 &  United-States &  <=50K\\\\\n",
       "\t32560 & 22 &  Private          & 201490 &  HS-grad      &  9 &  Never-married      &  Adm-clerical      &  Own-child      &  White              &  Male   &     0 & 0 & 20 &  United-States &  <=50K\\\\\n",
       "\t32561 & 52 &  Self-emp-inc     & 287927 &  HS-grad      &  9 &  Married-civ-spouse &  Exec-managerial   &  Wife           &  White              &  Female & 15024 & 0 & 40 &  United-States &  >50K \\\\\n",
       "\\end{tabular}\n"
      ],
      "text/markdown": [
       "\n",
       "A data.frame: 30139 × 15\n",
       "\n",
       "| <!--/--> | age &lt;int&gt; | workclass &lt;chr&gt; | fnlwgt &lt;int&gt; | education &lt;chr&gt; | education.num &lt;int&gt; | marital.status &lt;chr&gt; | occupation &lt;chr&gt; | relationship &lt;chr&gt; | race &lt;chr&gt; | sex &lt;chr&gt; | capital.gain &lt;int&gt; | capital.loss &lt;int&gt; | hours.per.week &lt;int&gt; | native.country &lt;chr&gt; | salary &lt;fct&gt; |\n",
       "|---|---|---|---|---|---|---|---|---|---|---|---|---|---|---|---|\n",
       "| 1 | 39 |  State-gov        |  77516 |  Bachelors    | 13 |  Never-married         |  Adm-clerical      |  Not-in-family |  White              |  Male   |  2174 |    0 | 40 |  United-States |  &lt;=50K |\n",
       "| 2 | 50 |  Self-emp-not-inc |  83311 |  Bachelors    | 13 |  Married-civ-spouse    |  Exec-managerial   |  Husband       |  White              |  Male   |     0 |    0 | 13 |  United-States |  &lt;=50K |\n",
       "| 3 | 38 |  Private          | 215646 |  HS-grad      |  9 |  Divorced              |  Handlers-cleaners |  Not-in-family |  White              |  Male   |     0 |    0 | 40 |  United-States |  &lt;=50K |\n",
       "| 4 | 53 |  Private          | 234721 |  11th         |  7 |  Married-civ-spouse    |  Handlers-cleaners |  Husband       |  Black              |  Male   |     0 |    0 | 40 |  United-States |  &lt;=50K |\n",
       "| 5 | 28 |  Private          | 338409 |  Bachelors    | 13 |  Married-civ-spouse    |  Prof-specialty    |  Wife          |  Black              |  Female |     0 |    0 | 40 |  Cuba          |  &lt;=50K |\n",
       "| 6 | 37 |  Private          | 284582 |  Masters      | 14 |  Married-civ-spouse    |  Exec-managerial   |  Wife          |  White              |  Female |     0 |    0 | 40 |  United-States |  &lt;=50K |\n",
       "| 7 | 49 |  Private          | 160187 |  9th          |  5 |  Married-spouse-absent |  Other-service     |  Not-in-family |  Black              |  Female |     0 |    0 | 16 |  Jamaica       |  &lt;=50K |\n",
       "| 8 | 52 |  Self-emp-not-inc | 209642 |  HS-grad      |  9 |  Married-civ-spouse    |  Exec-managerial   |  Husband       |  White              |  Male   |     0 |    0 | 45 |  United-States |  &gt;50K  |\n",
       "| 9 | 31 |  Private          |  45781 |  Masters      | 14 |  Never-married         |  Prof-specialty    |  Not-in-family |  White              |  Female | 14084 |    0 | 50 |  United-States |  &gt;50K  |\n",
       "| 10 | 42 |  Private          | 159449 |  Bachelors    | 13 |  Married-civ-spouse    |  Exec-managerial   |  Husband       |  White              |  Male   |  5178 |    0 | 40 |  United-States |  &gt;50K  |\n",
       "| 11 | 37 |  Private          | 280464 |  Some-college | 10 |  Married-civ-spouse    |  Exec-managerial   |  Husband       |  Black              |  Male   |     0 |    0 | 80 |  United-States |  &gt;50K  |\n",
       "| 12 | 30 |  State-gov        | 141297 |  Bachelors    | 13 |  Married-civ-spouse    |  Prof-specialty    |  Husband       |  Asian-Pac-Islander |  Male   |     0 |    0 | 40 |  India         |  &gt;50K  |\n",
       "| 13 | 23 |  Private          | 122272 |  Bachelors    | 13 |  Never-married         |  Adm-clerical      |  Own-child     |  White              |  Female |     0 |    0 | 30 |  United-States |  &lt;=50K |\n",
       "| 14 | 32 |  Private          | 205019 |  Assoc-acdm   | 12 |  Never-married         |  Sales             |  Not-in-family |  Black              |  Male   |     0 |    0 | 50 |  United-States |  &lt;=50K |\n",
       "| 16 | 34 |  Private          | 245487 |  7th-8th      |  4 |  Married-civ-spouse    |  Transport-moving  |  Husband       |  Amer-Indian-Eskimo |  Male   |     0 |    0 | 45 |  Mexico        |  &lt;=50K |\n",
       "| 17 | 25 |  Self-emp-not-inc | 176756 |  HS-grad      |  9 |  Never-married         |  Farming-fishing   |  Own-child     |  White              |  Male   |     0 |    0 | 35 |  United-States |  &lt;=50K |\n",
       "| 18 | 32 |  Private          | 186824 |  HS-grad      |  9 |  Never-married         |  Machine-op-inspct |  Unmarried     |  White              |  Male   |     0 |    0 | 40 |  United-States |  &lt;=50K |\n",
       "| 19 | 38 |  Private          |  28887 |  11th         |  7 |  Married-civ-spouse    |  Sales             |  Husband       |  White              |  Male   |     0 |    0 | 50 |  United-States |  &lt;=50K |\n",
       "| 20 | 43 |  Self-emp-not-inc | 292175 |  Masters      | 14 |  Divorced              |  Exec-managerial   |  Unmarried     |  White              |  Female |     0 |    0 | 45 |  United-States |  &gt;50K  |\n",
       "| 21 | 40 |  Private          | 193524 |  Doctorate    | 16 |  Married-civ-spouse    |  Prof-specialty    |  Husband       |  White              |  Male   |     0 |    0 | 60 |  United-States |  &gt;50K  |\n",
       "| 22 | 54 |  Private          | 302146 |  HS-grad      |  9 |  Separated             |  Other-service     |  Unmarried     |  Black              |  Female |     0 |    0 | 20 |  United-States |  &lt;=50K |\n",
       "| 23 | 35 |  Federal-gov      |  76845 |  9th          |  5 |  Married-civ-spouse    |  Farming-fishing   |  Husband       |  Black              |  Male   |     0 |    0 | 40 |  United-States |  &lt;=50K |\n",
       "| 24 | 43 |  Private          | 117037 |  11th         |  7 |  Married-civ-spouse    |  Transport-moving  |  Husband       |  White              |  Male   |     0 | 2042 | 40 |  United-States |  &lt;=50K |\n",
       "| 25 | 59 |  Private          | 109015 |  HS-grad      |  9 |  Divorced              |  Tech-support      |  Unmarried     |  White              |  Female |     0 |    0 | 40 |  United-States |  &lt;=50K |\n",
       "| 26 | 56 |  Local-gov        | 216851 |  Bachelors    | 13 |  Married-civ-spouse    |  Tech-support      |  Husband       |  White              |  Male   |     0 |    0 | 40 |  United-States |  &gt;50K  |\n",
       "| 27 | 19 |  Private          | 168294 |  HS-grad      |  9 |  Never-married         |  Craft-repair      |  Own-child     |  White              |  Male   |     0 |    0 | 40 |  United-States |  &lt;=50K |\n",
       "| 29 | 39 |  Private          | 367260 |  HS-grad      |  9 |  Divorced              |  Exec-managerial   |  Not-in-family |  White              |  Male   |     0 |    0 | 80 |  United-States |  &lt;=50K |\n",
       "| 30 | 49 |  Private          | 193366 |  HS-grad      |  9 |  Married-civ-spouse    |  Craft-repair      |  Husband       |  White              |  Male   |     0 |    0 | 40 |  United-States |  &lt;=50K |\n",
       "| 31 | 23 |  Local-gov        | 190709 |  Assoc-acdm   | 12 |  Never-married         |  Protective-serv   |  Not-in-family |  White              |  Male   |     0 |    0 | 52 |  United-States |  &lt;=50K |\n",
       "| 32 | 20 |  Private          | 266015 |  Some-college | 10 |  Never-married         |  Sales             |  Own-child     |  Black              |  Male   |     0 |    0 | 44 |  United-States |  &lt;=50K |\n",
       "| ⋮ | ⋮ | ⋮ | ⋮ | ⋮ | ⋮ | ⋮ | ⋮ | ⋮ | ⋮ | ⋮ | ⋮ | ⋮ | ⋮ | ⋮ | ⋮ |\n",
       "| 32527 | 32 |  Private          | 211349 |  10th         |  6 |  Married-civ-spouse |  Transport-moving  |  Husband        |  White              |  Male   |     0 | 0 | 40 |  United-States |  &lt;=50K |\n",
       "| 32528 | 22 |  Private          | 203715 |  Some-college | 10 |  Never-married      |  Adm-clerical      |  Own-child      |  White              |  Male   |     0 | 0 | 40 |  United-States |  &lt;=50K |\n",
       "| 32529 | 31 |  Private          | 292592 |  HS-grad      |  9 |  Married-civ-spouse |  Machine-op-inspct |  Wife           |  White              |  Female |     0 | 0 | 40 |  United-States |  &lt;=50K |\n",
       "| 32530 | 29 |  Private          | 125976 |  HS-grad      |  9 |  Separated          |  Sales             |  Unmarried      |  White              |  Female |     0 | 0 | 35 |  United-States |  &lt;=50K |\n",
       "| 32533 | 34 |  Private          | 204461 |  Doctorate    | 16 |  Married-civ-spouse |  Prof-specialty    |  Husband        |  White              |  Male   |     0 | 0 | 60 |  United-States |  &gt;50K  |\n",
       "| 32534 | 54 |  Private          | 337992 |  Bachelors    | 13 |  Married-civ-spouse |  Exec-managerial   |  Husband        |  Asian-Pac-Islander |  Male   |     0 | 0 | 50 |  Japan         |  &gt;50K  |\n",
       "| 32535 | 37 |  Private          | 179137 |  Some-college | 10 |  Divorced           |  Adm-clerical      |  Unmarried      |  White              |  Female |     0 | 0 | 39 |  United-States |  &lt;=50K |\n",
       "| 32536 | 22 |  Private          | 325033 |  12th         |  8 |  Never-married      |  Protective-serv   |  Own-child      |  Black              |  Male   |     0 | 0 | 35 |  United-States |  &lt;=50K |\n",
       "| 32537 | 34 |  Private          | 160216 |  Bachelors    | 13 |  Never-married      |  Exec-managerial   |  Not-in-family  |  White              |  Female |     0 | 0 | 55 |  United-States |  &gt;50K  |\n",
       "| 32538 | 30 |  Private          | 345898 |  HS-grad      |  9 |  Never-married      |  Craft-repair      |  Not-in-family  |  Black              |  Male   |     0 | 0 | 46 |  United-States |  &lt;=50K |\n",
       "| 32539 | 38 |  Private          | 139180 |  Bachelors    | 13 |  Divorced           |  Prof-specialty    |  Unmarried      |  Black              |  Female | 15020 | 0 | 45 |  United-States |  &gt;50K  |\n",
       "| 32541 | 45 |  State-gov        | 252208 |  HS-grad      |  9 |  Separated          |  Adm-clerical      |  Own-child      |  White              |  Female |     0 | 0 | 40 |  United-States |  &lt;=50K |\n",
       "| 32544 | 45 |  Local-gov        | 119199 |  Assoc-acdm   | 12 |  Divorced           |  Prof-specialty    |  Unmarried      |  White              |  Female |     0 | 0 | 48 |  United-States |  &lt;=50K |\n",
       "| 32545 | 31 |  Private          | 199655 |  Masters      | 14 |  Divorced           |  Other-service     |  Not-in-family  |  Other              |  Female |     0 | 0 | 30 |  United-States |  &lt;=50K |\n",
       "| 32546 | 39 |  Local-gov        | 111499 |  Assoc-acdm   | 12 |  Married-civ-spouse |  Adm-clerical      |  Wife           |  White              |  Female |     0 | 0 | 20 |  United-States |  &gt;50K  |\n",
       "| 32547 | 37 |  Private          | 198216 |  Assoc-acdm   | 12 |  Divorced           |  Tech-support      |  Not-in-family  |  White              |  Female |     0 | 0 | 40 |  United-States |  &lt;=50K |\n",
       "| 32548 | 43 |  Private          | 260761 |  HS-grad      |  9 |  Married-civ-spouse |  Machine-op-inspct |  Husband        |  White              |  Male   |     0 | 0 | 40 |  Mexico        |  &lt;=50K |\n",
       "| 32549 | 65 |  Self-emp-not-inc |  99359 |  Prof-school  | 15 |  Never-married      |  Prof-specialty    |  Not-in-family  |  White              |  Male   |  1086 | 0 | 60 |  United-States |  &lt;=50K |\n",
       "| 32550 | 43 |  State-gov        | 255835 |  Some-college | 10 |  Divorced           |  Adm-clerical      |  Other-relative |  White              |  Female |     0 | 0 | 40 |  United-States |  &lt;=50K |\n",
       "| 32551 | 43 |  Self-emp-not-inc |  27242 |  Some-college | 10 |  Married-civ-spouse |  Craft-repair      |  Husband        |  White              |  Male   |     0 | 0 | 50 |  United-States |  &lt;=50K |\n",
       "| 32552 | 32 |  Private          |  34066 |  10th         |  6 |  Married-civ-spouse |  Handlers-cleaners |  Husband        |  Amer-Indian-Eskimo |  Male   |     0 | 0 | 40 |  United-States |  &lt;=50K |\n",
       "| 32553 | 43 |  Private          |  84661 |  Assoc-voc    | 11 |  Married-civ-spouse |  Sales             |  Husband        |  White              |  Male   |     0 | 0 | 45 |  United-States |  &lt;=50K |\n",
       "| 32554 | 32 |  Private          | 116138 |  Masters      | 14 |  Never-married      |  Tech-support      |  Not-in-family  |  Asian-Pac-Islander |  Male   |     0 | 0 | 11 |  Taiwan        |  &lt;=50K |\n",
       "| 32555 | 53 |  Private          | 321865 |  Masters      | 14 |  Married-civ-spouse |  Exec-managerial   |  Husband        |  White              |  Male   |     0 | 0 | 40 |  United-States |  &gt;50K  |\n",
       "| 32556 | 22 |  Private          | 310152 |  Some-college | 10 |  Never-married      |  Protective-serv   |  Not-in-family  |  White              |  Male   |     0 | 0 | 40 |  United-States |  &lt;=50K |\n",
       "| 32557 | 27 |  Private          | 257302 |  Assoc-acdm   | 12 |  Married-civ-spouse |  Tech-support      |  Wife           |  White              |  Female |     0 | 0 | 38 |  United-States |  &lt;=50K |\n",
       "| 32558 | 40 |  Private          | 154374 |  HS-grad      |  9 |  Married-civ-spouse |  Machine-op-inspct |  Husband        |  White              |  Male   |     0 | 0 | 40 |  United-States |  &gt;50K  |\n",
       "| 32559 | 58 |  Private          | 151910 |  HS-grad      |  9 |  Widowed            |  Adm-clerical      |  Unmarried      |  White              |  Female |     0 | 0 | 40 |  United-States |  &lt;=50K |\n",
       "| 32560 | 22 |  Private          | 201490 |  HS-grad      |  9 |  Never-married      |  Adm-clerical      |  Own-child      |  White              |  Male   |     0 | 0 | 20 |  United-States |  &lt;=50K |\n",
       "| 32561 | 52 |  Self-emp-inc     | 287927 |  HS-grad      |  9 |  Married-civ-spouse |  Exec-managerial   |  Wife           |  White              |  Female | 15024 | 0 | 40 |  United-States |  &gt;50K  |\n",
       "\n"
      ],
      "text/plain": [
       "      age workclass         fnlwgt education     education.num\n",
       "1     39   State-gov         77516  Bachelors    13           \n",
       "2     50   Self-emp-not-inc  83311  Bachelors    13           \n",
       "3     38   Private          215646  HS-grad       9           \n",
       "4     53   Private          234721  11th          7           \n",
       "5     28   Private          338409  Bachelors    13           \n",
       "6     37   Private          284582  Masters      14           \n",
       "7     49   Private          160187  9th           5           \n",
       "8     52   Self-emp-not-inc 209642  HS-grad       9           \n",
       "9     31   Private           45781  Masters      14           \n",
       "10    42   Private          159449  Bachelors    13           \n",
       "11    37   Private          280464  Some-college 10           \n",
       "12    30   State-gov        141297  Bachelors    13           \n",
       "13    23   Private          122272  Bachelors    13           \n",
       "14    32   Private          205019  Assoc-acdm   12           \n",
       "16    34   Private          245487  7th-8th       4           \n",
       "17    25   Self-emp-not-inc 176756  HS-grad       9           \n",
       "18    32   Private          186824  HS-grad       9           \n",
       "19    38   Private           28887  11th          7           \n",
       "20    43   Self-emp-not-inc 292175  Masters      14           \n",
       "21    40   Private          193524  Doctorate    16           \n",
       "22    54   Private          302146  HS-grad       9           \n",
       "23    35   Federal-gov       76845  9th           5           \n",
       "24    43   Private          117037  11th          7           \n",
       "25    59   Private          109015  HS-grad       9           \n",
       "26    56   Local-gov        216851  Bachelors    13           \n",
       "27    19   Private          168294  HS-grad       9           \n",
       "29    39   Private          367260  HS-grad       9           \n",
       "30    49   Private          193366  HS-grad       9           \n",
       "31    23   Local-gov        190709  Assoc-acdm   12           \n",
       "32    20   Private          266015  Some-college 10           \n",
       "⋮     ⋮   ⋮                 ⋮      ⋮             ⋮            \n",
       "32527 32   Private          211349  10th          6           \n",
       "32528 22   Private          203715  Some-college 10           \n",
       "32529 31   Private          292592  HS-grad       9           \n",
       "32530 29   Private          125976  HS-grad       9           \n",
       "32533 34   Private          204461  Doctorate    16           \n",
       "32534 54   Private          337992  Bachelors    13           \n",
       "32535 37   Private          179137  Some-college 10           \n",
       "32536 22   Private          325033  12th          8           \n",
       "32537 34   Private          160216  Bachelors    13           \n",
       "32538 30   Private          345898  HS-grad       9           \n",
       "32539 38   Private          139180  Bachelors    13           \n",
       "32541 45   State-gov        252208  HS-grad       9           \n",
       "32544 45   Local-gov        119199  Assoc-acdm   12           \n",
       "32545 31   Private          199655  Masters      14           \n",
       "32546 39   Local-gov        111499  Assoc-acdm   12           \n",
       "32547 37   Private          198216  Assoc-acdm   12           \n",
       "32548 43   Private          260761  HS-grad       9           \n",
       "32549 65   Self-emp-not-inc  99359  Prof-school  15           \n",
       "32550 43   State-gov        255835  Some-college 10           \n",
       "32551 43   Self-emp-not-inc  27242  Some-college 10           \n",
       "32552 32   Private           34066  10th          6           \n",
       "32553 43   Private           84661  Assoc-voc    11           \n",
       "32554 32   Private          116138  Masters      14           \n",
       "32555 53   Private          321865  Masters      14           \n",
       "32556 22   Private          310152  Some-college 10           \n",
       "32557 27   Private          257302  Assoc-acdm   12           \n",
       "32558 40   Private          154374  HS-grad       9           \n",
       "32559 58   Private          151910  HS-grad       9           \n",
       "32560 22   Private          201490  HS-grad       9           \n",
       "32561 52   Self-emp-inc     287927  HS-grad       9           \n",
       "      marital.status         occupation         relationship   \n",
       "1      Never-married          Adm-clerical       Not-in-family \n",
       "2      Married-civ-spouse     Exec-managerial    Husband       \n",
       "3      Divorced               Handlers-cleaners  Not-in-family \n",
       "4      Married-civ-spouse     Handlers-cleaners  Husband       \n",
       "5      Married-civ-spouse     Prof-specialty     Wife          \n",
       "6      Married-civ-spouse     Exec-managerial    Wife          \n",
       "7      Married-spouse-absent  Other-service      Not-in-family \n",
       "8      Married-civ-spouse     Exec-managerial    Husband       \n",
       "9      Never-married          Prof-specialty     Not-in-family \n",
       "10     Married-civ-spouse     Exec-managerial    Husband       \n",
       "11     Married-civ-spouse     Exec-managerial    Husband       \n",
       "12     Married-civ-spouse     Prof-specialty     Husband       \n",
       "13     Never-married          Adm-clerical       Own-child     \n",
       "14     Never-married          Sales              Not-in-family \n",
       "16     Married-civ-spouse     Transport-moving   Husband       \n",
       "17     Never-married          Farming-fishing    Own-child     \n",
       "18     Never-married          Machine-op-inspct  Unmarried     \n",
       "19     Married-civ-spouse     Sales              Husband       \n",
       "20     Divorced               Exec-managerial    Unmarried     \n",
       "21     Married-civ-spouse     Prof-specialty     Husband       \n",
       "22     Separated              Other-service      Unmarried     \n",
       "23     Married-civ-spouse     Farming-fishing    Husband       \n",
       "24     Married-civ-spouse     Transport-moving   Husband       \n",
       "25     Divorced               Tech-support       Unmarried     \n",
       "26     Married-civ-spouse     Tech-support       Husband       \n",
       "27     Never-married          Craft-repair       Own-child     \n",
       "29     Divorced               Exec-managerial    Not-in-family \n",
       "30     Married-civ-spouse     Craft-repair       Husband       \n",
       "31     Never-married          Protective-serv    Not-in-family \n",
       "32     Never-married          Sales              Own-child     \n",
       "⋮     ⋮                      ⋮                  ⋮              \n",
       "32527  Married-civ-spouse     Transport-moving   Husband       \n",
       "32528  Never-married          Adm-clerical       Own-child     \n",
       "32529  Married-civ-spouse     Machine-op-inspct  Wife          \n",
       "32530  Separated              Sales              Unmarried     \n",
       "32533  Married-civ-spouse     Prof-specialty     Husband       \n",
       "32534  Married-civ-spouse     Exec-managerial    Husband       \n",
       "32535  Divorced               Adm-clerical       Unmarried     \n",
       "32536  Never-married          Protective-serv    Own-child     \n",
       "32537  Never-married          Exec-managerial    Not-in-family \n",
       "32538  Never-married          Craft-repair       Not-in-family \n",
       "32539  Divorced               Prof-specialty     Unmarried     \n",
       "32541  Separated              Adm-clerical       Own-child     \n",
       "32544  Divorced               Prof-specialty     Unmarried     \n",
       "32545  Divorced               Other-service      Not-in-family \n",
       "32546  Married-civ-spouse     Adm-clerical       Wife          \n",
       "32547  Divorced               Tech-support       Not-in-family \n",
       "32548  Married-civ-spouse     Machine-op-inspct  Husband       \n",
       "32549  Never-married          Prof-specialty     Not-in-family \n",
       "32550  Divorced               Adm-clerical       Other-relative\n",
       "32551  Married-civ-spouse     Craft-repair       Husband       \n",
       "32552  Married-civ-spouse     Handlers-cleaners  Husband       \n",
       "32553  Married-civ-spouse     Sales              Husband       \n",
       "32554  Never-married          Tech-support       Not-in-family \n",
       "32555  Married-civ-spouse     Exec-managerial    Husband       \n",
       "32556  Never-married          Protective-serv    Not-in-family \n",
       "32557  Married-civ-spouse     Tech-support       Wife          \n",
       "32558  Married-civ-spouse     Machine-op-inspct  Husband       \n",
       "32559  Widowed                Adm-clerical       Unmarried     \n",
       "32560  Never-married          Adm-clerical       Own-child     \n",
       "32561  Married-civ-spouse     Exec-managerial    Wife          \n",
       "      race                sex     capital.gain capital.loss hours.per.week\n",
       "1      White               Male    2174           0         40            \n",
       "2      White               Male       0           0         13            \n",
       "3      White               Male       0           0         40            \n",
       "4      Black               Male       0           0         40            \n",
       "5      Black               Female     0           0         40            \n",
       "6      White               Female     0           0         40            \n",
       "7      Black               Female     0           0         16            \n",
       "8      White               Male       0           0         45            \n",
       "9      White               Female 14084           0         50            \n",
       "10     White               Male    5178           0         40            \n",
       "11     Black               Male       0           0         80            \n",
       "12     Asian-Pac-Islander  Male       0           0         40            \n",
       "13     White               Female     0           0         30            \n",
       "14     Black               Male       0           0         50            \n",
       "16     Amer-Indian-Eskimo  Male       0           0         45            \n",
       "17     White               Male       0           0         35            \n",
       "18     White               Male       0           0         40            \n",
       "19     White               Male       0           0         50            \n",
       "20     White               Female     0           0         45            \n",
       "21     White               Male       0           0         60            \n",
       "22     Black               Female     0           0         20            \n",
       "23     Black               Male       0           0         40            \n",
       "24     White               Male       0        2042         40            \n",
       "25     White               Female     0           0         40            \n",
       "26     White               Male       0           0         40            \n",
       "27     White               Male       0           0         40            \n",
       "29     White               Male       0           0         80            \n",
       "30     White               Male       0           0         40            \n",
       "31     White               Male       0           0         52            \n",
       "32     Black               Male       0           0         44            \n",
       "⋮     ⋮                   ⋮       ⋮            ⋮            ⋮             \n",
       "32527  White               Male       0        0            40            \n",
       "32528  White               Male       0        0            40            \n",
       "32529  White               Female     0        0            40            \n",
       "32530  White               Female     0        0            35            \n",
       "32533  White               Male       0        0            60            \n",
       "32534  Asian-Pac-Islander  Male       0        0            50            \n",
       "32535  White               Female     0        0            39            \n",
       "32536  Black               Male       0        0            35            \n",
       "32537  White               Female     0        0            55            \n",
       "32538  Black               Male       0        0            46            \n",
       "32539  Black               Female 15020        0            45            \n",
       "32541  White               Female     0        0            40            \n",
       "32544  White               Female     0        0            48            \n",
       "32545  Other               Female     0        0            30            \n",
       "32546  White               Female     0        0            20            \n",
       "32547  White               Female     0        0            40            \n",
       "32548  White               Male       0        0            40            \n",
       "32549  White               Male    1086        0            60            \n",
       "32550  White               Female     0        0            40            \n",
       "32551  White               Male       0        0            50            \n",
       "32552  Amer-Indian-Eskimo  Male       0        0            40            \n",
       "32553  White               Male       0        0            45            \n",
       "32554  Asian-Pac-Islander  Male       0        0            11            \n",
       "32555  White               Male       0        0            40            \n",
       "32556  White               Male       0        0            40            \n",
       "32557  White               Female     0        0            38            \n",
       "32558  White               Male       0        0            40            \n",
       "32559  White               Female     0        0            40            \n",
       "32560  White               Male       0        0            20            \n",
       "32561  White               Female 15024        0            40            \n",
       "      native.country salary\n",
       "1      United-States  <=50K\n",
       "2      United-States  <=50K\n",
       "3      United-States  <=50K\n",
       "4      United-States  <=50K\n",
       "5      Cuba           <=50K\n",
       "6      United-States  <=50K\n",
       "7      Jamaica        <=50K\n",
       "8      United-States  >50K \n",
       "9      United-States  >50K \n",
       "10     United-States  >50K \n",
       "11     United-States  >50K \n",
       "12     India          >50K \n",
       "13     United-States  <=50K\n",
       "14     United-States  <=50K\n",
       "16     Mexico         <=50K\n",
       "17     United-States  <=50K\n",
       "18     United-States  <=50K\n",
       "19     United-States  <=50K\n",
       "20     United-States  >50K \n",
       "21     United-States  >50K \n",
       "22     United-States  <=50K\n",
       "23     United-States  <=50K\n",
       "24     United-States  <=50K\n",
       "25     United-States  <=50K\n",
       "26     United-States  >50K \n",
       "27     United-States  <=50K\n",
       "29     United-States  <=50K\n",
       "30     United-States  <=50K\n",
       "31     United-States  <=50K\n",
       "32     United-States  <=50K\n",
       "⋮     ⋮              ⋮     \n",
       "32527  United-States  <=50K\n",
       "32528  United-States  <=50K\n",
       "32529  United-States  <=50K\n",
       "32530  United-States  <=50K\n",
       "32533  United-States  >50K \n",
       "32534  Japan          >50K \n",
       "32535  United-States  <=50K\n",
       "32536  United-States  <=50K\n",
       "32537  United-States  >50K \n",
       "32538  United-States  <=50K\n",
       "32539  United-States  >50K \n",
       "32541  United-States  <=50K\n",
       "32544  United-States  <=50K\n",
       "32545  United-States  <=50K\n",
       "32546  United-States  >50K \n",
       "32547  United-States  <=50K\n",
       "32548  Mexico         <=50K\n",
       "32549  United-States  <=50K\n",
       "32550  United-States  <=50K\n",
       "32551  United-States  <=50K\n",
       "32552  United-States  <=50K\n",
       "32553  United-States  <=50K\n",
       "32554  Taiwan         <=50K\n",
       "32555  United-States  >50K \n",
       "32556  United-States  <=50K\n",
       "32557  United-States  <=50K\n",
       "32558  United-States  >50K \n",
       "32559  United-States  <=50K\n",
       "32560  United-States  <=50K\n",
       "32561  United-States  >50K "
      ]
     },
     "metadata": {},
     "output_type": "display_data"
    }
   ],
   "source": [
    "censusdata <- censusdata[!duplicated(censusdata), ]\n",
    "censusdata"
   ]
  },
  {
   "cell_type": "code",
   "execution_count": 13,
   "id": "b3820f52",
   "metadata": {},
   "outputs": [
    {
     "data": {
      "text/html": [
       "0"
      ],
      "text/latex": [
       "0"
      ],
      "text/markdown": [
       "0"
      ],
      "text/plain": [
       "[1] 0"
      ]
     },
     "metadata": {},
     "output_type": "display_data"
    }
   ],
   "source": [
    "sum(duplicated(censusdata))"
   ]
  },
  {
   "cell_type": "code",
   "execution_count": 14,
   "id": "476a0f6d",
   "metadata": {},
   "outputs": [
    {
     "name": "stdout",
     "output_type": "stream",
     "text": [
      "[1] 30139\n"
     ]
    }
   ],
   "source": [
    "print(nrow(censusdata))"
   ]
  },
  {
   "cell_type": "code",
   "execution_count": 15,
   "id": "27408150",
   "metadata": {},
   "outputs": [
    {
     "data": {
      "image/png": "[encoded data removed]",
      "text/plain": [
       "Plot with title \"More work hours, more income\""
      ]
     },
     "metadata": {
      "image/png": {
       "height": 420,
       "width": 420
      }
     },
     "output_type": "display_data"
    }
   ],
   "source": [
    "boxplot (hours.per.week ~ salary, data = censusdata, \n",
    "     main = \"More work hours, more income\",\n",
    "     xlab = \"Income Levels\", ylab = \"Hours per week\", col = \"salmon\")"
   ]
  },
  {
   "cell_type": "code",
   "execution_count": 16,
   "id": "eed48245",
   "metadata": {},
   "outputs": [
    {
     "data": {
      "image/png": "[encoded data removed]",
      "text/plain": [
       "Plot with title \"Age distribution for different income levels\""
      ]
     },
     "metadata": {
      "image/png": {
       "height": 420,
       "width": 420
      }
     },
     "output_type": "display_data"
    }
   ],
   "source": [
    "#\n",
    "boxplot (age ~ salary, data = censusdata, \n",
    "     main = \"Age distribution for different income levels\",\n",
    "     xlab = \"Income Levels\", ylab = \"Age\", col = \"salmon\")"
   ]
  },
  {
   "cell_type": "code",
   "execution_count": 17,
   "id": "25c50447",
   "metadata": {},
   "outputs": [
    {
     "data": {
      "image/png": "[encoded data removed]",
      "text/plain": [
       "plot without title"
      ]
     },
     "metadata": {
      "image/png": {
       "height": 420,
       "width": 420
      }
     },
     "output_type": "display_data"
    }
   ],
   "source": [
    "qplot(salary, data = censusdata, fill = occupation) + facet_grid (. ~ occupation)"
   ]
  },
  {
   "cell_type": "code",
   "execution_count": 18,
   "id": "8454f952",
   "metadata": {},
   "outputs": [
    {
     "data": {
      "image/png": "[encoded data removed]",
      "text/plain": [
       "plot without title"
      ]
     },
     "metadata": {
      "image/png": {
       "height": 420,
       "width": 420
      }
     },
     "output_type": "display_data"
    }
   ],
   "source": [
    "qplot(salary, data = censusdata, fill = education) + facet_grid (. ~ education)"
   ]
  },
  {
   "cell_type": "markdown",
   "id": "6e265d47",
   "metadata": {},
   "source": [
    "Checking for skewing of data\n"
   ]
  },
  {
   "cell_type": "code",
   "execution_count": 19,
   "id": "ac4dfab0",
   "metadata": {},
   "outputs": [
    {
     "name": "stderr",
     "output_type": "stream",
     "text": [
      "Installing package into 'C:/Users/anwes/AppData/Local/R/win-library/4.2'\n",
      "(as 'lib' is unspecified)\n",
      "\n"
     ]
    },
    {
     "name": "stdout",
     "output_type": "stream",
     "text": [
      "package 'moments' successfully unpacked and MD5 sums checked\n",
      "\n",
      "The downloaded binary packages are in\n",
      "\tC:\\Users\\anwes\\AppData\\Local\\Temp\\RtmpWagJ5e\\downloaded_packages\n"
     ]
    }
   ],
   "source": [
    "# for skewness()\n",
    "install.packages('moments')\n",
    "library(moments)"
   ]
  },
  {
   "cell_type": "code",
   "execution_count": 20,
   "id": "4acaeeab",
   "metadata": {},
   "outputs": [
    {
     "name": "stdout",
     "output_type": "stream",
     "text": [
      "[1] \"age: 0.52894476078798\"\n",
      "[1] \"fnlwgt: 1.45998277140037\"\n",
      "[1] \"education.num: -0.302829830357738\"\n",
      "[1] \"capital.gain: 11.8975120380298\"\n",
      "[1] \"capital.loss: 4.52418367946322\"\n",
      "[1] \"hours.per.week: 0.332369428522311\"\n"
     ]
    }
   ],
   "source": [
    "skewedVars<- NA\n",
    "\n",
    "for(i in names(censusdata)){\n",
    "   if(is.numeric(censusdata[,i])){\n",
    "     if(i != \"salary\"){\n",
    "       # Enters this block if variable is non-categorical\n",
    "       skewVal <- skewness(censusdata[,i])\n",
    "       print(paste(i, skewVal, sep = \": \"))\n",
    "       if(abs(skewVal) > 0.5){\n",
    "         skewedVars <- c(skewedVars, i)\n",
    "       }\n",
    "     }\n",
    "   }\n",
    " }\n"
   ]
  },
  {
   "cell_type": "markdown",
   "id": "24066ee1",
   "metadata": {},
   "source": [
    "The attributes named fnlwgt, capitalgain, capitalloss is highly skewed as absolute value of these are far greater  than 0.5"
   ]
  },
  {
   "cell_type": "code",
   "execution_count": 21,
   "id": "b13ed92b",
   "metadata": {},
   "outputs": [
    {
     "name": "stdout",
     "output_type": "stream",
     "text": [
      "'data.frame':\t30139 obs. of  15 variables:\n",
      " $ fnlwgt        : int  77516 83311 215646 234721 338409 284582 160187 209642 45781 159449 ...\n",
      " $ capital.gain  : int  2174 0 0 0 0 0 0 0 14084 5178 ...\n",
      " $ capital.loss  : int  0 0 0 0 0 0 0 0 0 0 ...\n",
      " $ hours.per.week: int  40 13 40 40 40 40 16 45 50 40 ...\n",
      " $ age           : int  39 50 38 53 28 37 49 52 31 42 ...\n",
      " $ education.num : int  13 13 9 7 13 14 5 9 14 13 ...\n",
      " $ workclass     : chr  \" State-gov\" \" Self-emp-not-inc\" \" Private\" \" Private\" ...\n",
      " $ education     : chr  \" Bachelors\" \" Bachelors\" \" HS-grad\" \" 11th\" ...\n",
      " $ marital.status: chr  \" Never-married\" \" Married-civ-spouse\" \" Divorced\" \" Married-civ-spouse\" ...\n",
      " $ occupation    : chr  \" Adm-clerical\" \" Exec-managerial\" \" Handlers-cleaners\" \" Handlers-cleaners\" ...\n",
      " $ relationship  : chr  \" Not-in-family\" \" Husband\" \" Not-in-family\" \" Husband\" ...\n",
      " $ race          : chr  \" White\" \" White\" \" White\" \" Black\" ...\n",
      " $ sex           : chr  \" Male\" \" Male\" \" Male\" \" Male\" ...\n",
      " $ native.country: chr  \" United-States\" \" United-States\" \" United-States\" \" United-States\" ...\n",
      " $ salary        : Factor w/ 2 levels \" <=50K\",\" >50K\": 1 1 1 1 1 1 1 2 2 2 ...\n"
     ]
    }
   ],
   "source": [
    "censusdata<- censusdata[c(3,11:13,1,5,2,4,6:10,14:15)]\n",
    "str(censusdata)"
   ]
  },
  {
   "cell_type": "markdown",
   "id": "096e2ca8",
   "metadata": {},
   "source": [
    "After rearranging the columns, we are removing capitalgain, capitalloss and applying log transformation on fnlwgt"
   ]
  },
  {
   "cell_type": "code",
   "execution_count": 22,
   "id": "0ff1ae60",
   "metadata": {},
   "outputs": [],
   "source": [
    "censusdata.norm<- censusdata\n",
    "censusdata.norm[,1:3]<- log(censusdata[1:3],2) # where 2 is log base 2\n",
    "censusdata.norm$capitalgain<- NULL\n",
    "censusdata.norm$capitalloss<-NULL"
   ]
  },
  {
   "cell_type": "markdown",
   "id": "6f537589",
   "metadata": {},
   "source": [
    "Correlation Plot"
   ]
  },
  {
   "cell_type": "code",
   "execution_count": 23,
   "id": "0980230b",
   "metadata": {},
   "outputs": [
    {
     "name": "stdout",
     "output_type": "stream",
     "text": [
      "All correlations <= 0.7 \n"
     ]
    },
    {
     "data": {
      "text/html": [],
      "text/latex": [],
      "text/markdown": [],
      "text/plain": [
       "character(0)"
      ]
     },
     "metadata": {},
     "output_type": "display_data"
    },
    {
     "data": {
      "image/png": "[encoded data removed]",
      "text/plain": [
       "Plot with title \"\""
      ]
     },
     "metadata": {
      "image/png": {
       "height": 420,
       "width": 420
      }
     },
     "output_type": "display_data"
    }
   ],
   "source": [
    "correlat<- cor(censusdata[c(1:6)])\n",
    "corrplot(correlat, method = \"pie\",na.label=\" \")\n",
    "highlyCor <- colnames(censusdata)[findCorrelation(correlat, cutoff = 0.7, verbose = TRUE)]\n",
    "\n",
    "highlyCor # No high Correlations found\n"
   ]
  },
  {
   "cell_type": "code",
   "execution_count": 24,
   "id": "361e925b",
   "metadata": {},
   "outputs": [
    {
     "data": {
      "text/html": [
       "<style>\n",
       ".dl-inline {width: auto; margin:0; padding: 0}\n",
       ".dl-inline>dt, .dl-inline>dd {float: none; width: auto; display: inline-block}\n",
       ".dl-inline>dt::after {content: \":\\0020\"; padding-right: .5ex}\n",
       ".dl-inline>dt:not(:first-of-type) {padding-left: .5ex}\n",
       "</style><dl class=dl-inline><dt> &lt;=50K</dt><dd>22633</dd><dt> &gt;50K</dt><dd>7506</dd></dl>\n"
      ],
      "text/latex": [
       "\\begin{description*}\n",
       "\\item[ <=50K] 22633\n",
       "\\item[ >50K] 7506\n",
       "\\end{description*}\n"
      ],
      "text/markdown": [
       " &amp;lt;=50K\n",
       ":   22633 &amp;gt;50K\n",
       ":   7506\n",
       "\n"
      ],
      "text/plain": [
       " <=50K   >50K \n",
       " 22633   7506 "
      ]
     },
     "metadata": {},
     "output_type": "display_data"
    }
   ],
   "source": [
    "summary(censusdata$salary)"
   ]
  },
  {
   "cell_type": "code",
   "execution_count": 25,
   "id": "8c5ca91d",
   "metadata": {},
   "outputs": [],
   "source": [
    "censusdata$workclass=as.factor(censusdata$workclass)\n",
    "censusdata$education=as.factor(censusdata$education)\n",
    "censusdata$marital.status=as.factor(censusdata$marital.status)\n",
    "censusdata$occupation=as.factor(censusdata$occupation)\n",
    "censusdata$relationship=as.factor(censusdata$relationship)\n",
    "censusdata$race=as.factor(censusdata$race)\n",
    "censusdata$sex=as.factor(censusdata$sex)\n",
    "censusdata$native.country=as.factor(censusdata$native.country)"
   ]
  },
  {
   "cell_type": "markdown",
   "id": "4183dd84",
   "metadata": {},
   "source": [
    "# Dividing dataset in train and test"
   ]
  },
  {
   "cell_type": "code",
   "execution_count": 26,
   "id": "0300a424",
   "metadata": {},
   "outputs": [
    {
     "data": {
      "text/html": [
       "<style>\n",
       ".list-inline {list-style: none; margin:0; padding: 0}\n",
       ".list-inline>li {display: inline-block}\n",
       ".list-inline>li:not(:last-child)::after {content: \"\\00b7\"; padding: 0 .5ex}\n",
       "</style>\n",
       "<ol class=list-inline><li>8037</li><li>15</li></ol>\n"
      ],
      "text/latex": [
       "\\begin{enumerate*}\n",
       "\\item 8037\n",
       "\\item 15\n",
       "\\end{enumerate*}\n"
      ],
      "text/markdown": [
       "1. 8037\n",
       "2. 15\n",
       "\n",
       "\n"
      ],
      "text/plain": [
       "[1] 8037   15"
      ]
     },
     "metadata": {},
     "output_type": "display_data"
    }
   ],
   "source": [
    "set.seed(123)   #  set seed to ensure you always have same random numbers generated\n",
    "sample = sample.split(censusdata,SplitRatio = 0.75) # splits the data in the ratio mentioned in SplitRatio. After splitting marks these rows as logical TRUE and the the remaining are marked as logical FALSE\n",
    "train.data =subset(censusdata,sample ==TRUE) # creates a training dataset named train1 with rows which are marked as TRUE\n",
    "test.data=subset(censusdata, sample==FALSE)\n",
    "\n",
    "dim(test.data)"
   ]
  },
  {
   "cell_type": "code",
   "execution_count": 27,
   "id": "c784d082",
   "metadata": {},
   "outputs": [
    {
     "data": {
      "image/png": "[encoded data removed]",
      "text/plain": [
       "Plot with title \"Class Distrubution\""
      ]
     },
     "metadata": {
      "image/png": {
       "height": 420,
       "width": 420
      }
     },
     "output_type": "display_data"
    }
   ],
   "source": [
    "barplot(prop.table(table(censusdata$salary)),\n",
    "       col=rainbow(2),\n",
    "       ylim=c(0, 0.7),\n",
    "       main=\"Class Distrubution\")"
   ]
  },
  {
   "cell_type": "markdown",
   "id": "406daf77",
   "metadata": {},
   "source": [
    "# Balancing the dataset"
   ]
  },
  {
   "cell_type": "code",
   "execution_count": 28,
   "id": "e57720c8",
   "metadata": {},
   "outputs": [
    {
     "name": "stderr",
     "output_type": "stream",
     "text": [
      "Loaded ROSE 0.0-4\n",
      "\n",
      "\n"
     ]
    }
   ],
   "source": [
    "library(ROSE)"
   ]
  },
  {
   "cell_type": "code",
   "execution_count": 29,
   "id": "3b5a7da2",
   "metadata": {},
   "outputs": [
    {
     "data": {
      "text/plain": [
       "\n",
       " <=50K   >50K \n",
       " 11204  10898 "
      ]
     },
     "metadata": {},
     "output_type": "display_data"
    }
   ],
   "source": [
    "data_rose <- ROSE(salary ~., data = train.data)$data\n",
    "table(data_rose$salary)"
   ]
  },
  {
   "cell_type": "markdown",
   "id": "b2780ac3",
   "metadata": {},
   "source": [
    "# Decision Tree"
   ]
  },
  {
   "cell_type": "code",
   "execution_count": null,
   "id": "87121178",
   "metadata": {},
   "outputs": [],
   "source": []
  },
  {
   "cell_type": "code",
   "execution_count": 30,
   "id": "dff9075d",
   "metadata": {},
   "outputs": [],
   "source": [
    "tree.model<- rpart(salary~., data=train.data, method=\"class\", minbucket=20)\n",
    "tree.predict<- predict(tree.model, test.data, type = \"class\")"
   ]
  },
  {
   "cell_type": "code",
   "execution_count": 31,
   "id": "f387e121",
   "metadata": {},
   "outputs": [
    {
     "data": {
      "text/plain": [
       "Confusion Matrix and Statistics\n",
       "\n",
       "          Reference\n",
       "Prediction  <=50K  >50K\n",
       "     <=50K   5650   309\n",
       "     >50K    1030  1048\n",
       "                                          \n",
       "               Accuracy : 0.8334          \n",
       "                 95% CI : (0.8251, 0.8415)\n",
       "    No Information Rate : 0.8312          \n",
       "    P-Value [Acc > NIR] : 0.302           \n",
       "                                          \n",
       "                  Kappa : 0.5101          \n",
       "                                          \n",
       " Mcnemar's Test P-Value : <2e-16          \n",
       "                                          \n",
       "            Sensitivity : 0.8458          \n",
       "            Specificity : 0.7723          \n",
       "         Pos Pred Value : 0.9481          \n",
       "         Neg Pred Value : 0.5043          \n",
       "              Precision : 0.9481          \n",
       "                 Recall : 0.8458          \n",
       "                     F1 : 0.8941          \n",
       "             Prevalence : 0.8312          \n",
       "         Detection Rate : 0.7030          \n",
       "   Detection Prevalence : 0.7414          \n",
       "      Balanced Accuracy : 0.8091          \n",
       "                                          \n",
       "       'Positive' Class :  <=50K          \n",
       "                                          "
      ]
     },
     "metadata": {},
     "output_type": "display_data"
    }
   ],
   "source": [
    "confusionMatrix(test.data$salary, tree.predict, mode=\"everything\")"
   ]
  },
  {
   "cell_type": "code",
   "execution_count": 32,
   "id": "838a61b0",
   "metadata": {},
   "outputs": [
    {
     "name": "stderr",
     "output_type": "stream",
     "text": [
      "Type 'citation(\"pROC\")' for a citation.\n",
      "\n",
      "\n",
      "Attaching package: 'pROC'\n",
      "\n",
      "\n",
      "The following object is masked from 'package:colorspace':\n",
      "\n",
      "    coords\n",
      "\n",
      "\n",
      "The following objects are masked from 'package:stats':\n",
      "\n",
      "    cov, smooth, var\n",
      "\n",
      "\n"
     ]
    }
   ],
   "source": [
    "library(pROC)"
   ]
  },
  {
   "cell_type": "code",
   "execution_count": 33,
   "id": "6aed952b",
   "metadata": {},
   "outputs": [
    {
     "name": "stderr",
     "output_type": "stream",
     "text": [
      "Setting levels: control =  <=50K, case =  >50K\n",
      "\n",
      "Warning message in value[[3L]](cond):\n",
      "\"Ordered predictor converted to numeric vector. Threshold values will not correspond to values in predictor.\"\n",
      "Setting direction: controls < cases\n",
      "\n"
     ]
    },
    {
     "data": {
      "image/png": "[encoded data removed]",
      "text/plain": [
       "plot without title"
      ]
     },
     "metadata": {
      "image/png": {
       "height": 420,
       "width": 420
      }
     },
     "output_type": "display_data"
    }
   ],
   "source": [
    "test.data$tree.predict= tree.predict\n",
    "roc_dt= roc(response= test.data$salary, predictor = factor(test.data$tree.predict, ordered=TRUE), plot=TRUE, print.auc=TRUE)"
   ]
  },
  {
   "cell_type": "markdown",
   "id": "1b40aa51",
   "metadata": {},
   "source": [
    "Decision Tree on balanced dataset"
   ]
  },
  {
   "cell_type": "code",
   "execution_count": 34,
   "id": "d7ea0b89",
   "metadata": {},
   "outputs": [
    {
     "data": {
      "text/plain": [
       "Confusion Matrix and Statistics\n",
       "\n",
       "          Reference\n",
       "Prediction  <=50K  >50K\n",
       "     <=50K   5702   257\n",
       "     >50K    1631   447\n",
       "                                          \n",
       "               Accuracy : 0.7651          \n",
       "                 95% CI : (0.7557, 0.7743)\n",
       "    No Information Rate : 0.9124          \n",
       "    P-Value [Acc > NIR] : 1               \n",
       "                                          \n",
       "                  Kappa : 0.2192          \n",
       "                                          \n",
       " Mcnemar's Test P-Value : <2e-16          \n",
       "                                          \n",
       "            Sensitivity : 0.7776          \n",
       "            Specificity : 0.6349          \n",
       "         Pos Pred Value : 0.9569          \n",
       "         Neg Pred Value : 0.2151          \n",
       "              Precision : 0.9569          \n",
       "                 Recall : 0.7776          \n",
       "                     F1 : 0.8580          \n",
       "             Prevalence : 0.9124          \n",
       "         Detection Rate : 0.7095          \n",
       "   Detection Prevalence : 0.7414          \n",
       "      Balanced Accuracy : 0.7063          \n",
       "                                          \n",
       "       'Positive' Class :  <=50K          \n",
       "                                          "
      ]
     },
     "metadata": {},
     "output_type": "display_data"
    }
   ],
   "source": [
    "tree.model1<- rpart(salary~., data=data_rose, method=\"class\", minbucket=20)\n",
    "tree.predict1<- predict(tree.model1, test.data, type = \"class\")\n",
    "\n",
    "confusionMatrix(test.data$salary, tree.predict1, mode=\"everything\")"
   ]
  },
  {
   "cell_type": "code",
   "execution_count": 35,
   "id": "5e2a47f1",
   "metadata": {},
   "outputs": [
    {
     "name": "stderr",
     "output_type": "stream",
     "text": [
      "Setting levels: control =  <=50K, case =  >50K\n",
      "\n",
      "Warning message in value[[3L]](cond):\n",
      "\"Ordered predictor converted to numeric vector. Threshold values will not correspond to values in predictor.\"\n",
      "Setting direction: controls < cases\n",
      "\n"
     ]
    },
    {
     "data": {
      "image/png": "[encoded data removed]",
      "text/plain": [
       "plot without title"
      ]
     },
     "metadata": {
      "image/png": {
       "height": 420,
       "width": 420
      }
     },
     "output_type": "display_data"
    }
   ],
   "source": [
    "test.data$tree.predict1= tree.predict1\n",
    "roc_dt1= roc(response= test.data$salary, predictor = factor(test.data$tree.predict1, ordered=TRUE), plot=TRUE, print.auc=TRUE)"
   ]
  },
  {
   "cell_type": "markdown",
   "id": "8f7d54c7",
   "metadata": {},
   "source": [
    "# SVM"
   ]
  },
  {
   "cell_type": "code",
   "execution_count": 36,
   "id": "2d5876c3",
   "metadata": {},
   "outputs": [
    {
     "name": "stderr",
     "output_type": "stream",
     "text": [
      "\n",
      "Attaching package: 'e1071'\n",
      "\n",
      "\n",
      "The following objects are masked from 'package:moments':\n",
      "\n",
      "    kurtosis, moment, skewness\n",
      "\n",
      "\n"
     ]
    }
   ],
   "source": [
    "library(e1071)"
   ]
  },
  {
   "cell_type": "code",
   "execution_count": 37,
   "id": "29e5d56c",
   "metadata": {},
   "outputs": [
    {
     "data": {
      "text/plain": [
       "Confusion Matrix and Statistics\n",
       "\n",
       "          Reference\n",
       "Prediction  <=50K  >50K\n",
       "     <=50K   5583   376\n",
       "     >50K     881  1197\n",
       "                                          \n",
       "               Accuracy : 0.8436          \n",
       "                 95% CI : (0.8355, 0.8515)\n",
       "    No Information Rate : 0.8043          \n",
       "    P-Value [Acc > NIR] : < 2.2e-16       \n",
       "                                          \n",
       "                  Kappa : 0.557           \n",
       "                                          \n",
       " Mcnemar's Test P-Value : < 2.2e-16       \n",
       "                                          \n",
       "            Sensitivity : 0.8637          \n",
       "            Specificity : 0.7610          \n",
       "         Pos Pred Value : 0.9369          \n",
       "         Neg Pred Value : 0.5760          \n",
       "              Precision : 0.9369          \n",
       "                 Recall : 0.8637          \n",
       "                     F1 : 0.8988          \n",
       "             Prevalence : 0.8043          \n",
       "         Detection Rate : 0.6947          \n",
       "   Detection Prevalence : 0.7414          \n",
       "      Balanced Accuracy : 0.8123          \n",
       "                                          \n",
       "       'Positive' Class :  <=50K          \n",
       "                                          "
      ]
     },
     "metadata": {},
     "output_type": "display_data"
    }
   ],
   "source": [
    "svm.model<- svm(salary~., data = train.data,kernel = \"radial\", cost = 1, gamma = 0.1)\n",
    "svm.predict <- predict(svm.model, test.data)\n",
    "confusionMatrix(test.data$salary, svm.predict, mode=\"everything\")"
   ]
  },
  {
   "cell_type": "code",
   "execution_count": 38,
   "id": "d0cf09df",
   "metadata": {},
   "outputs": [
    {
     "name": "stderr",
     "output_type": "stream",
     "text": [
      "Setting levels: control =  <=50K, case =  >50K\n",
      "\n",
      "Warning message in value[[3L]](cond):\n",
      "\"Ordered predictor converted to numeric vector. Threshold values will not correspond to values in predictor.\"\n",
      "Setting direction: controls < cases\n",
      "\n"
     ]
    },
    {
     "data": {
      "image/png": "[encoded data removed]",
      "text/plain": [
       "plot without title"
      ]
     },
     "metadata": {
      "image/png": {
       "height": 420,
       "width": 420
      }
     },
     "output_type": "display_data"
    }
   ],
   "source": [
    "test.data$svm.predict= svm.predict\n",
    "roc_svm= roc(response= test.data$salary, predictor = factor(test.data$svm.predict, ordered=TRUE), plot=TRUE, print.auc=TRUE)"
   ]
  },
  {
   "cell_type": "markdown",
   "id": "07a2076c",
   "metadata": {},
   "source": [
    "SVM on balanced dataset"
   ]
  },
  {
   "cell_type": "code",
   "execution_count": 39,
   "id": "cc634a06",
   "metadata": {},
   "outputs": [
    {
     "data": {
      "text/plain": [
       "Confusion Matrix and Statistics\n",
       "\n",
       "          Reference\n",
       "Prediction  <=50K  >50K\n",
       "     <=50K   5216   743\n",
       "     >50K     573  1505\n",
       "                                         \n",
       "               Accuracy : 0.8363         \n",
       "                 95% CI : (0.828, 0.8443)\n",
       "    No Information Rate : 0.7203         \n",
       "    P-Value [Acc > NIR] : < 2.2e-16      \n",
       "                                         \n",
       "                  Kappa : 0.584          \n",
       "                                         \n",
       " Mcnemar's Test P-Value : 3.183e-06      \n",
       "                                         \n",
       "            Sensitivity : 0.9010         \n",
       "            Specificity : 0.6695         \n",
       "         Pos Pred Value : 0.8753         \n",
       "         Neg Pred Value : 0.7243         \n",
       "              Precision : 0.8753         \n",
       "                 Recall : 0.9010         \n",
       "                     F1 : 0.8880         \n",
       "             Prevalence : 0.7203         \n",
       "         Detection Rate : 0.6490         \n",
       "   Detection Prevalence : 0.7414         \n",
       "      Balanced Accuracy : 0.7853         \n",
       "                                         \n",
       "       'Positive' Class :  <=50K         \n",
       "                                         "
      ]
     },
     "metadata": {},
     "output_type": "display_data"
    }
   ],
   "source": [
    "svm.model1<- svm(salary~., data = data_rose,kernel = \"radial\", cost = 1, gamma = 0.1)\n",
    "svm.predict1 <- predict(svm.model1, test.data)\n",
    "confusionMatrix(test.data$salary, svm.predict1, mode=\"everything\")"
   ]
  },
  {
   "cell_type": "code",
   "execution_count": 40,
   "id": "07657a39",
   "metadata": {},
   "outputs": [
    {
     "name": "stderr",
     "output_type": "stream",
     "text": [
      "Setting levels: control =  <=50K, case =  >50K\n",
      "\n",
      "Warning message in value[[3L]](cond):\n",
      "\"Ordered predictor converted to numeric vector. Threshold values will not correspond to values in predictor.\"\n",
      "Setting direction: controls < cases\n",
      "\n"
     ]
    },
    {
     "data": {
      "image/png": "[encoded data removed]",
      "text/plain": [
       "plot without title"
      ]
     },
     "metadata": {
      "image/png": {
       "height": 420,
       "width": 420
      }
     },
     "output_type": "display_data"
    }
   ],
   "source": [
    "test.data$svm.predict1= svm.predict1\n",
    "roc_svm1= roc(response= test.data$salary, predictor = factor(test.data$svm.predict1, ordered=TRUE), plot=TRUE, print.auc=TRUE)"
   ]
  },
  {
   "cell_type": "markdown",
   "id": "acb4500e",
   "metadata": {},
   "source": [
    "# Random Forest"
   ]
  },
  {
   "cell_type": "code",
   "execution_count": 41,
   "id": "3087a589",
   "metadata": {},
   "outputs": [
    {
     "name": "stderr",
     "output_type": "stream",
     "text": [
      "Warning message:\n",
      "\"package 'randomForest' is in use and will not be installed\"\n"
     ]
    }
   ],
   "source": [
    "install.packages('randomForest')\n",
    "library(randomForest)"
   ]
  },
  {
   "cell_type": "code",
   "execution_count": 42,
   "id": "beb6a855",
   "metadata": {},
   "outputs": [
    {
     "data": {
      "text/plain": [
       "Confusion Matrix and Statistics\n",
       "\n",
       "          Reference\n",
       "Prediction  <=50K  >50K\n",
       "     <=50K   5544   415\n",
       "     >50K     729  1349\n",
       "                                          \n",
       "               Accuracy : 0.8577          \n",
       "                 95% CI : (0.8498, 0.8652)\n",
       "    No Information Rate : 0.7805          \n",
       "    P-Value [Acc > NIR] : < 2.2e-16       \n",
       "                                          \n",
       "                  Kappa : 0.6095          \n",
       "                                          \n",
       " Mcnemar's Test P-Value : < 2.2e-16       \n",
       "                                          \n",
       "            Sensitivity : 0.8838          \n",
       "            Specificity : 0.7647          \n",
       "         Pos Pred Value : 0.9304          \n",
       "         Neg Pred Value : 0.6492          \n",
       "              Precision : 0.9304          \n",
       "                 Recall : 0.8838          \n",
       "                     F1 : 0.9065          \n",
       "             Prevalence : 0.7805          \n",
       "         Detection Rate : 0.6898          \n",
       "   Detection Prevalence : 0.7414          \n",
       "      Balanced Accuracy : 0.8243          \n",
       "                                          \n",
       "       'Positive' Class :  <=50K          \n",
       "                                          "
      ]
     },
     "metadata": {},
     "output_type": "display_data"
    }
   ],
   "source": [
    "rf.model<- randomForest(salary~.,data = train.data,importance=TRUE,keep.forest=TRUE)\n",
    "rf.predict <- predict(rf.model, test.data)\n",
    "confusionMatrix(test.data$salary, rf.predict, mode=\"everything\")"
   ]
  },
  {
   "cell_type": "code",
   "execution_count": 43,
   "id": "417c1f0e",
   "metadata": {},
   "outputs": [
    {
     "name": "stderr",
     "output_type": "stream",
     "text": [
      "Setting levels: control =  <=50K, case =  >50K\n",
      "\n",
      "Warning message in value[[3L]](cond):\n",
      "\"Ordered predictor converted to numeric vector. Threshold values will not correspond to values in predictor.\"\n",
      "Setting direction: controls < cases\n",
      "\n"
     ]
    },
    {
     "data": {
      "image/png": "[encoded data removed]",
      "text/plain": [
       "plot without title"
      ]
     },
     "metadata": {
      "image/png": {
       "height": 420,
       "width": 420
      }
     },
     "output_type": "display_data"
    }
   ],
   "source": [
    "test.data$rf.predict= rf.predict\n",
    "roc_rf= roc(response= test.data$salary, predictor = factor(test.data$rf.predict, ordered=TRUE), plot=TRUE, print.auc=TRUE)"
   ]
  },
  {
   "cell_type": "markdown",
   "id": "d4b6dc9b",
   "metadata": {},
   "source": [
    "Using balanced dataset"
   ]
  },
  {
   "cell_type": "code",
   "execution_count": 44,
   "id": "537bda55",
   "metadata": {},
   "outputs": [
    {
     "data": {
      "text/plain": [
       "Confusion Matrix and Statistics\n",
       "\n",
       "          Reference\n",
       "Prediction  <=50K  >50K\n",
       "     <=50K   5731   228\n",
       "     >50K    1393   685\n",
       "                                         \n",
       "               Accuracy : 0.7983         \n",
       "                 95% CI : (0.7894, 0.807)\n",
       "    No Information Rate : 0.8864         \n",
       "    P-Value [Acc > NIR] : 1              \n",
       "                                         \n",
       "                  Kappa : 0.3565         \n",
       "                                         \n",
       " Mcnemar's Test P-Value : <2e-16         \n",
       "                                         \n",
       "            Sensitivity : 0.8045         \n",
       "            Specificity : 0.7503         \n",
       "         Pos Pred Value : 0.9617         \n",
       "         Neg Pred Value : 0.3296         \n",
       "              Precision : 0.9617         \n",
       "                 Recall : 0.8045         \n",
       "                     F1 : 0.8761         \n",
       "             Prevalence : 0.8864         \n",
       "         Detection Rate : 0.7131         \n",
       "   Detection Prevalence : 0.7414         \n",
       "      Balanced Accuracy : 0.7774         \n",
       "                                         \n",
       "       'Positive' Class :  <=50K         \n",
       "                                         "
      ]
     },
     "metadata": {},
     "output_type": "display_data"
    }
   ],
   "source": [
    "rf.model1<- randomForest(salary~.,data = data_rose,importance=TRUE,keep.forest=TRUE)\n",
    "rf.predict1 <- predict(rf.model1, test.data)\n",
    "confusionMatrix(test.data$salary, rf.predict1, mode=\"everything\")"
   ]
  },
  {
   "cell_type": "code",
   "execution_count": 45,
   "id": "1ec40be2",
   "metadata": {},
   "outputs": [
    {
     "name": "stderr",
     "output_type": "stream",
     "text": [
      "Setting levels: control =  <=50K, case =  >50K\n",
      "\n",
      "Warning message in value[[3L]](cond):\n",
      "\"Ordered predictor converted to numeric vector. Threshold values will not correspond to values in predictor.\"\n",
      "Setting direction: controls < cases\n",
      "\n"
     ]
    },
    {
     "data": {
      "image/png": "[encoded data removed]",
      "text/plain": [
       "plot without title"
      ]
     },
     "metadata": {
      "image/png": {
       "height": 420,
       "width": 420
      }
     },
     "output_type": "display_data"
    }
   ],
   "source": [
    "test.data$rf.predict1= rf.predict1\n",
    "roc_rf1= roc(response= test.data$salary, predictor = factor(test.data$rf.predict1, ordered=TRUE), plot=TRUE, print.auc=TRUE)"
   ]
  },
  {
   "cell_type": "markdown",
   "id": "765a6c0e",
   "metadata": {},
   "source": [
    "# Logistic Regression"
   ]
  },
  {
   "cell_type": "code",
   "execution_count": 46,
   "id": "e62df65d",
   "metadata": {},
   "outputs": [
    {
     "name": "stderr",
     "output_type": "stream",
     "text": [
      "Warning message:\n",
      "\"glm.fit: fitted probabilities numerically 0 or 1 occurred\"\n"
     ]
    },
    {
     "data": {
      "text/plain": [
       "\n",
       "Call:\n",
       "glm(formula = salary ~ ., family = binomial, data = train.data)\n",
       "\n",
       "Deviance Residuals: \n",
       "    Min       1Q   Median       3Q      Max  \n",
       "-5.0981  -0.5133  -0.1868  -0.0010   3.6698  \n",
       "\n",
       "Coefficients: (1 not defined because of singularities)\n",
       "                                            Estimate Std. Error z value\n",
       "(Intercept)                               -8.699e+00  1.018e+00  -8.542\n",
       "fnlwgt                                     6.318e-07  2.100e-07   3.008\n",
       "capital.gain                               3.200e-04  1.251e-05  25.571\n",
       "capital.loss                               6.313e-04  4.551e-05  13.871\n",
       "hours.per.week                             3.099e-02  2.019e-03  15.348\n",
       "age                                        2.705e-02  2.016e-03  13.418\n",
       "education.num                              2.640e-01  4.523e-02   5.837\n",
       "workclass Local-gov                       -7.602e-01  1.321e-01  -5.754\n",
       "workclass Private                         -5.568e-01  1.094e-01  -5.091\n",
       "workclass Self-emp-inc                    -3.666e-01  1.443e-01  -2.540\n",
       "workclass Self-emp-not-inc                -1.086e+00  1.291e-01  -8.406\n",
       "workclass State-gov                       -8.704e-01  1.468e-01  -5.930\n",
       "workclass Without-pay                     -1.418e+01  3.623e+02  -0.039\n",
       "education 11th                            -2.846e-01  2.306e-01  -1.234\n",
       "education 12th                            -3.450e-01  3.047e-01  -1.133\n",
       "education 1st-4th                          7.414e-01  6.343e-01   1.169\n",
       "education 5th-6th                          4.351e-01  4.882e-01   0.891\n",
       "education 7th-8th                         -3.391e-01  3.614e-01  -0.938\n",
       "education 9th                              4.987e-02  3.379e-01   0.148\n",
       "education Assoc-acdm                      -3.819e-01  1.542e-01  -2.477\n",
       "education Assoc-voc                       -7.026e-02  1.164e-01  -0.604\n",
       "education Bachelors                        3.929e-02  1.597e-01   0.246\n",
       "education Doctorate                        3.452e-01  3.416e-01   1.010\n",
       "education HS-grad                         -1.091e-01  6.741e-02  -1.619\n",
       "education Masters                          9.357e-02  2.137e-01   0.438\n",
       "education Preschool                       -1.846e+01  1.909e+02  -0.097\n",
       "education Prof-school                      5.280e-01  2.876e-01   1.836\n",
       "education Some-college                            NA         NA      NA\n",
       "marital.status Married-AF-spouse           2.994e+00  6.506e-01   4.602\n",
       "marital.status Married-civ-spouse          2.190e+00  3.254e-01   6.728\n",
       "marital.status Married-spouse-absent       8.549e-02  2.785e-01   0.307\n",
       "marital.status Never-married              -3.972e-01  1.056e-01  -3.762\n",
       "marital.status Separated                  -7.574e-02  1.954e-01  -0.388\n",
       "marital.status Widowed                     3.526e-01  1.802e-01   1.956\n",
       "occupation Armed-Forces                   -8.933e-01  1.721e+00  -0.519\n",
       "occupation Craft-repair                    1.853e-02  9.473e-02   0.196\n",
       "occupation Exec-managerial                 7.662e-01  9.173e-02   8.353\n",
       "occupation Farming-fishing                -9.866e-01  1.668e-01  -5.915\n",
       "occupation Handlers-cleaners              -7.067e-01  1.712e-01  -4.129\n",
       "occupation Machine-op-inspct              -3.613e-01  1.228e-01  -2.942\n",
       "occupation Other-service                  -8.679e-01  1.414e-01  -6.136\n",
       "occupation Priv-house-serv                -4.181e+00  1.805e+00  -2.316\n",
       "occupation Prof-specialty                  4.327e-01  9.654e-02   4.482\n",
       "occupation Protective-serv                 6.424e-01  1.491e-01   4.309\n",
       "occupation Sales                           2.745e-01  9.768e-02   2.810\n",
       "occupation Tech-support                    6.878e-01  1.306e-01   5.266\n",
       "occupation Transport-moving               -1.069e-01  1.182e-01  -0.904\n",
       "relationship Not-in-family                 4.494e-01  3.213e-01   1.399\n",
       "relationship Other-relative               -5.469e-01  2.889e-01  -1.893\n",
       "relationship Own-child                    -6.866e-01  3.215e-01  -2.136\n",
       "relationship Unmarried                     3.623e-01  3.396e-01   1.067\n",
       "relationship Wife                          1.330e+00  1.244e-01  10.693\n",
       "race Asian-Pac-Islander                    8.522e-01  3.458e-01   2.464\n",
       "race Black                                 5.453e-01  2.904e-01   1.878\n",
       "race Other                                 1.332e-01  4.462e-01   0.299\n",
       "race White                                 6.907e-01  2.770e-01   2.494\n",
       "sex Male                                   8.242e-01  9.504e-02   8.673\n",
       "native.country Canada                      4.388e-02  8.382e-01   0.052\n",
       "native.country China                      -1.497e+00  8.529e-01  -1.756\n",
       "native.country Columbia                   -2.012e+00  1.151e+00  -1.748\n",
       "native.country Cuba                       -4.422e-02  8.615e-01  -0.051\n",
       "native.country Dominican-Republic         -1.353e+01  1.773e+02  -0.076\n",
       "native.country Ecuador                    -5.746e-01  1.085e+00  -0.530\n",
       "native.country El-Salvador                -1.059e+00  9.452e-01  -1.121\n",
       "native.country England                     1.357e-01  8.481e-01   0.160\n",
       "native.country France                     -4.771e-01  1.045e+00  -0.457\n",
       "native.country Germany                    -1.615e-01  8.243e-01  -0.196\n",
       "native.country Greece                     -1.588e+00  1.033e+00  -1.538\n",
       "native.country Guatemala                  -1.932e-01  1.116e+00  -0.173\n",
       "native.country Haiti                       4.602e-02  1.038e+00   0.044\n",
       "native.country Holand-Netherlands         -1.185e+01  1.455e+03  -0.008\n",
       "native.country Honduras                   -1.220e+01  4.026e+02  -0.030\n",
       "native.country Hong                       -5.695e-01  1.092e+00  -0.522\n",
       "native.country Hungary                    -4.851e-01  1.117e+00  -0.434\n",
       "native.country India                      -1.381e+00  8.219e-01  -1.680\n",
       "native.country Iran                       -7.953e-01  9.318e-01  -0.853\n",
       "native.country Ireland                     1.047e+00  1.126e+00   0.930\n",
       "native.country Italy                      -1.425e-01  8.713e-01  -0.164\n",
       "native.country Jamaica                    -5.089e-01  9.122e-01  -0.558\n",
       "native.country Japan                      -4.703e-01  8.751e-01  -0.537\n",
       "native.country Laos                       -1.013e+00  1.175e+00  -0.862\n",
       "native.country Mexico                     -1.048e+00  8.157e-01  -1.285\n",
       "native.country Nicaragua                  -1.248e+00  1.322e+00  -0.945\n",
       "native.country Outlying-US(Guam-USVI-etc) -1.335e+01  4.480e+02  -0.030\n",
       "native.country Peru                       -1.207e+00  1.165e+00  -1.036\n",
       "native.country Philippines                -1.230e-01  7.891e-01  -0.156\n",
       "native.country Poland                     -3.998e-01  9.108e-01  -0.439\n",
       "native.country Portugal                   -3.352e-01  1.003e+00  -0.334\n",
       "native.country Puerto-Rico                -1.057e+00  9.096e-01  -1.162\n",
       "native.country Scotland                   -7.161e-01  1.409e+00  -0.508\n",
       "native.country South                      -1.088e+00  8.762e-01  -1.242\n",
       "native.country Taiwan                     -1.141e+00  9.173e-01  -1.244\n",
       "native.country Thailand                   -5.166e-01  1.312e+00  -0.394\n",
       "native.country Trinadad&Tobago            -8.775e-01  1.166e+00  -0.752\n",
       "native.country United-States              -3.842e-01  7.754e-01  -0.496\n",
       "native.country Vietnam                    -3.146e+00  1.295e+00  -2.429\n",
       "native.country Yugoslavia                 -1.506e-01  1.106e+00  -0.136\n",
       "                                          Pr(>|z|)    \n",
       "(Intercept)                                < 2e-16 ***\n",
       "fnlwgt                                    0.002626 ** \n",
       "capital.gain                               < 2e-16 ***\n",
       "capital.loss                               < 2e-16 ***\n",
       "hours.per.week                             < 2e-16 ***\n",
       "age                                        < 2e-16 ***\n",
       "education.num                             5.33e-09 ***\n",
       "workclass Local-gov                       8.71e-09 ***\n",
       "workclass Private                         3.57e-07 ***\n",
       "workclass Self-emp-inc                    0.011070 *  \n",
       "workclass Self-emp-not-inc                 < 2e-16 ***\n",
       "workclass State-gov                       3.03e-09 ***\n",
       "workclass Without-pay                     0.968776    \n",
       "education 11th                            0.217083    \n",
       "education 12th                            0.257416    \n",
       "education 1st-4th                         0.242463    \n",
       "education 5th-6th                         0.372880    \n",
       "education 7th-8th                         0.348059    \n",
       "education 9th                             0.882657    \n",
       "education Assoc-acdm                      0.013233 *  \n",
       "education Assoc-voc                       0.546154    \n",
       "education Bachelors                       0.805634    \n",
       "education Doctorate                       0.312305    \n",
       "education HS-grad                         0.105503    \n",
       "education Masters                         0.661529    \n",
       "education Preschool                       0.922946    \n",
       "education Prof-school                     0.066317 .  \n",
       "education Some-college                          NA    \n",
       "marital.status Married-AF-spouse          4.19e-06 ***\n",
       "marital.status Married-civ-spouse         1.72e-11 ***\n",
       "marital.status Married-spouse-absent      0.758874    \n",
       "marital.status Never-married              0.000168 ***\n",
       "marital.status Separated                  0.698358    \n",
       "marital.status Widowed                    0.050426 .  \n",
       "occupation Armed-Forces                   0.603664    \n",
       "occupation Craft-repair                   0.844878    \n",
       "occupation Exec-managerial                 < 2e-16 ***\n",
       "occupation Farming-fishing                3.31e-09 ***\n",
       "occupation Handlers-cleaners              3.65e-05 ***\n",
       "occupation Machine-op-inspct              0.003264 ** \n",
       "occupation Other-service                  8.46e-10 ***\n",
       "occupation Priv-house-serv                0.020536 *  \n",
       "occupation Prof-specialty                 7.40e-06 ***\n",
       "occupation Protective-serv                1.64e-05 ***\n",
       "occupation Sales                          0.004951 ** \n",
       "occupation Tech-support                   1.39e-07 ***\n",
       "occupation Transport-moving               0.365986    \n",
       "relationship Not-in-family                0.161962    \n",
       "relationship Other-relative               0.058355 .  \n",
       "relationship Own-child                    0.032684 *  \n",
       "relationship Unmarried                    0.286033    \n",
       "relationship Wife                          < 2e-16 ***\n",
       "race Asian-Pac-Islander                   0.013730 *  \n",
       "race Black                                0.060365 .  \n",
       "race Other                                0.765308    \n",
       "race White                                0.012640 *  \n",
       "sex Male                                   < 2e-16 ***\n",
       "native.country Canada                     0.958253    \n",
       "native.country China                      0.079159 .  \n",
       "native.country Columbia                   0.080476 .  \n",
       "native.country Cuba                       0.959063    \n",
       "native.country Dominican-Republic         0.939162    \n",
       "native.country Ecuador                    0.596277    \n",
       "native.country El-Salvador                0.262375    \n",
       "native.country England                    0.872855    \n",
       "native.country France                     0.647851    \n",
       "native.country Germany                    0.844703    \n",
       "native.country Greece                     0.124042    \n",
       "native.country Guatemala                  0.862627    \n",
       "native.country Haiti                      0.964620    \n",
       "native.country Holand-Netherlands         0.993503    \n",
       "native.country Honduras                   0.975828    \n",
       "native.country Hong                       0.601911    \n",
       "native.country Hungary                    0.664076    \n",
       "native.country India                      0.092985 .  \n",
       "native.country Iran                       0.393394    \n",
       "native.country Ireland                    0.352214    \n",
       "native.country Italy                      0.870089    \n",
       "native.country Jamaica                    0.576905    \n",
       "native.country Japan                      0.591006    \n",
       "native.country Laos                       0.388644    \n",
       "native.country Mexico                     0.198658    \n",
       "native.country Nicaragua                  0.344905    \n",
       "native.country Outlying-US(Guam-USVI-etc) 0.976230    \n",
       "native.country Peru                       0.300243    \n",
       "native.country Philippines                0.876151    \n",
       "native.country Poland                     0.660713    \n",
       "native.country Portugal                   0.738133    \n",
       "native.country Puerto-Rico                0.245240    \n",
       "native.country Scotland                   0.611305    \n",
       "native.country South                      0.214310    \n",
       "native.country Taiwan                     0.213530    \n",
       "native.country Thailand                   0.693759    \n",
       "native.country Trinadad&Tobago            0.451814    \n",
       "native.country United-States              0.620213    \n",
       "native.country Vietnam                    0.015148 *  \n",
       "native.country Yugoslavia                 0.891692    \n",
       "---\n",
       "Signif. codes:  0 '***' 0.001 '**' 0.01 '*' 0.05 '.' 0.1 ' ' 1\n",
       "\n",
       "(Dispersion parameter for binomial family taken to be 1)\n",
       "\n",
       "    Null deviance: 24641  on 22101  degrees of freedom\n",
       "Residual deviance: 14127  on 22006  degrees of freedom\n",
       "AIC: 14319\n",
       "\n",
       "Number of Fisher Scoring iterations: 14\n"
      ]
     },
     "metadata": {},
     "output_type": "display_data"
    }
   ],
   "source": [
    "glm.fit<- glm(salary~., family=binomial,data = train.data)\n",
    "summary(glm.fit)"
   ]
  },
  {
   "cell_type": "code",
   "execution_count": 47,
   "id": "112130cc",
   "metadata": {},
   "outputs": [
    {
     "name": "stderr",
     "output_type": "stream",
     "text": [
      "Warning message in predict.lm(object, newdata, se.fit, scale = 1, type = if (type == :\n",
      "\"prediction from a rank-deficient fit may be misleading\"\n"
     ]
    },
    {
     "data": {
      "image/png": "[encoded data removed]",
      "text/plain": [
       "Plot with title \"Histogram of glm.pred\""
      ]
     },
     "metadata": {
      "image/png": {
       "height": 420,
       "width": 420
      }
     },
     "output_type": "display_data"
    }
   ],
   "source": [
    "set.seed(123)\n",
    "glm.pred<- predict(glm.fit, test.data, type = \"response\")\n",
    "hist(glm.pred, breaks=20)\n",
    "hist(glm.pred[test.data$salary], col=\"red\", breaks=20, add=TRUE)"
   ]
  },
  {
   "cell_type": "code",
   "execution_count": 48,
   "id": "3dca79c0",
   "metadata": {},
   "outputs": [
    {
     "data": {
      "text/plain": [
       "        predicted\n",
       "actual   FALSE TRUE\n",
       "   <=50K  5517  442\n",
       "   >50K    845 1233"
      ]
     },
     "metadata": {},
     "output_type": "display_data"
    }
   ],
   "source": [
    "table(actual= test.data$salary, predicted= glm.pred>0.5)"
   ]
  },
  {
   "cell_type": "code",
   "execution_count": 49,
   "id": "82827374",
   "metadata": {},
   "outputs": [
    {
     "data": {
      "text/html": [
       "0.83986562150056"
      ],
      "text/latex": [
       "0.83986562150056"
      ],
      "text/markdown": [
       "0.83986562150056"
      ],
      "text/plain": [
       "[1] 0.8398656"
      ]
     },
     "metadata": {},
     "output_type": "display_data"
    },
    {
     "data": {
      "text/html": [
       "0.867180132033952"
      ],
      "text/latex": [
       "0.867180132033952"
      ],
      "text/markdown": [
       "0.867180132033952"
      ],
      "text/plain": [
       "[1] 0.8671801"
      ]
     },
     "metadata": {},
     "output_type": "display_data"
    },
    {
     "data": {
      "text/html": [
       "0.736119402985075"
      ],
      "text/latex": [
       "0.736119402985075"
      ],
      "text/markdown": [
       "0.736119402985075"
      ],
      "text/plain": [
       "[1] 0.7361194"
      ]
     },
     "metadata": {},
     "output_type": "display_data"
    }
   ],
   "source": [
    "#Accuracy\n",
    "(5517+1233)/8037\n",
    "#sensitivity\n",
    "5517/(5517+845)\n",
    "#specitivity\n",
    "1233/(1233+442)"
   ]
  },
  {
   "cell_type": "code",
   "execution_count": 50,
   "id": "8cc8e996",
   "metadata": {},
   "outputs": [
    {
     "name": "stderr",
     "output_type": "stream",
     "text": [
      "Setting levels: control =  <=50K, case =  >50K\n",
      "\n",
      "Setting direction: controls < cases\n",
      "\n"
     ]
    },
    {
     "data": {
      "image/png": "[encoded data removed]",
      "text/plain": [
       "plot without title"
      ]
     },
     "metadata": {
      "image/png": {
       "height": 420,
       "width": 420
      }
     },
     "output_type": "display_data"
    }
   ],
   "source": [
    "test.data$glm.pred= glm.pred\n",
    "roc_glm= roc(response= test.data$salary, predictor = factor(test.data$glm.pred, ordered=TRUE), plot=TRUE, print.auc=TRUE)"
   ]
  },
  {
   "cell_type": "code",
   "execution_count": 51,
   "id": "beffe96c",
   "metadata": {},
   "outputs": [
    {
     "data": {
      "text/plain": [
       "        predicted\n",
       "actual   FALSE TRUE\n",
       "   <=50K  5507  452\n",
       "   >50K   1055 1023"
      ]
     },
     "metadata": {},
     "output_type": "display_data"
    }
   ],
   "source": [
    "set.seed(1234)\n",
    "glm.fit2<- glm(salary ~ age + workclass + education.num \n",
    "               + fnlwgt + marital.status, \n",
    "               family=binomial(link='logit'),data = train.data)\n",
    "glm.pred2<- predict(glm.fit2, test.data, type = \"response\")\n",
    "table(actual= test.data$salary, predicted= glm.pred2>0.5)"
   ]
  },
  {
   "cell_type": "code",
   "execution_count": 52,
   "id": "a712e4b9",
   "metadata": {},
   "outputs": [
    {
     "data": {
      "text/html": [
       "0.813736468831654"
      ],
      "text/latex": [
       "0.813736468831654"
      ],
      "text/markdown": [
       "0.813736468831654"
      ],
      "text/plain": [
       "[1] 0.8137365"
      ]
     },
     "metadata": {},
     "output_type": "display_data"
    },
    {
     "data": {
      "text/html": [
       "0.839225845778726"
      ],
      "text/latex": [
       "0.839225845778726"
      ],
      "text/markdown": [
       "0.839225845778726"
      ],
      "text/plain": [
       "[1] 0.8392258"
      ]
     },
     "metadata": {},
     "output_type": "display_data"
    },
    {
     "data": {
      "text/html": [
       "0.693559322033898"
      ],
      "text/latex": [
       "0.693559322033898"
      ],
      "text/markdown": [
       "0.693559322033898"
      ],
      "text/plain": [
       "[1] 0.6935593"
      ]
     },
     "metadata": {},
     "output_type": "display_data"
    }
   ],
   "source": [
    "#Accuracy\n",
    "(5507+1033)/8037\n",
    "#sensitivity\n",
    "5507/(5507+1055)\n",
    "#specitivity\n",
    "1023/(1023+452)"
   ]
  },
  {
   "cell_type": "code",
   "execution_count": 53,
   "id": "9acf4cb4",
   "metadata": {},
   "outputs": [
    {
     "name": "stderr",
     "output_type": "stream",
     "text": [
      "Setting levels: control =  <=50K, case =  >50K\n",
      "\n",
      "Setting direction: controls < cases\n",
      "\n"
     ]
    },
    {
     "data": {
      "image/png": "[encoded data removed]",
      "text/plain": [
       "plot without title"
      ]
     },
     "metadata": {
      "image/png": {
       "height": 420,
       "width": 420
      }
     },
     "output_type": "display_data"
    }
   ],
   "source": [
    "test.data$glm.pred2= glm.pred2\n",
    "roc_glm2= roc(response= test.data$salary, predictor = factor(test.data$glm.pred2, ordered=TRUE), plot=TRUE, print.auc=TRUE)"
   ]
  },
  {
   "cell_type": "markdown",
   "id": "b0d434c0",
   "metadata": {},
   "source": [
    "Logistic regression on balanced dataset"
   ]
  },
  {
   "cell_type": "code",
   "execution_count": 54,
   "id": "43b6d21c",
   "metadata": {},
   "outputs": [
    {
     "data": {
      "text/plain": [
       "\n",
       "Call:\n",
       "glm(formula = salary ~ ., family = binomial, data = data_rose)\n",
       "\n",
       "Deviance Residuals: \n",
       "    Min       1Q   Median       3Q      Max  \n",
       "-3.1127  -0.5457  -0.0494   0.6372   3.4092  \n",
       "\n",
       "Coefficients:\n",
       "                                            Estimate Std. Error z value\n",
       "(Intercept)                               -5.862e+00  1.153e+00  -5.083\n",
       "fnlwgt                                     7.847e-07  1.759e-07   4.460\n",
       "capital.gain                               7.645e-05  3.719e-06  20.558\n",
       "capital.loss                               4.649e-04  3.975e-05  11.695\n",
       "hours.per.week                             2.861e-02  1.752e-03  16.329\n",
       "age                                        2.988e-02  1.730e-03  17.270\n",
       "education.num                              4.674e-02  2.122e-02   2.203\n",
       "workclass Local-gov                       -9.322e-01  1.224e-01  -7.618\n",
       "workclass Private                         -7.185e-01  1.025e-01  -7.011\n",
       "workclass Self-emp-inc                    -4.320e-01  1.369e-01  -3.157\n",
       "workclass Self-emp-not-inc                -1.027e+00  1.200e-01  -8.557\n",
       "workclass State-gov                       -9.759e-01  1.356e-01  -7.195\n",
       "workclass Without-pay                     -1.383e+01  2.115e+02  -0.065\n",
       "education 11th                             1.578e-01  2.137e-01   0.739\n",
       "education 12th                             6.356e-01  2.782e-01   2.285\n",
       "education 1st-4th                         -4.532e-01  4.734e-01  -0.957\n",
       "education 5th-6th                         -3.353e-01  3.959e-01  -0.847\n",
       "education 7th-8th                         -3.834e-01  2.439e-01  -1.572\n",
       "education 9th                              2.271e-01  2.424e-01   0.936\n",
       "education Assoc-acdm                       1.202e+00  2.155e-01   5.575\n",
       "education Assoc-voc                        1.449e+00  1.997e-01   7.255\n",
       "education Bachelors                        1.758e+00  2.144e-01   8.201\n",
       "education Doctorate                        2.473e+00  3.096e-01   7.988\n",
       "education HS-grad                          8.318e-01  1.618e-01   5.142\n",
       "education Masters                          2.235e+00  2.405e-01   9.293\n",
       "education Preschool                       -1.202e+01  1.662e+02  -0.072\n",
       "education Prof-school                      2.683e+00  2.862e-01   9.372\n",
       "education Some-college                     1.120e+00  1.733e-01   6.461\n",
       "marital.status Married-AF-spouse           4.455e+00  6.453e-01   6.904\n",
       "marital.status Married-civ-spouse          2.851e+00  2.733e-01  10.433\n",
       "marital.status Married-spouse-absent       1.693e-01  2.158e-01   0.784\n",
       "marital.status Never-married              -3.511e-01  8.319e-02  -4.221\n",
       "marital.status Separated                  -2.100e-02  1.521e-01  -0.138\n",
       "marital.status Widowed                     2.805e-01  1.429e-01   1.963\n",
       "occupation Armed-Forces                   -1.236e+00  1.395e+00  -0.886\n",
       "occupation Craft-repair                   -8.437e-03  8.204e-02  -0.103\n",
       "occupation Exec-managerial                 8.504e-01  8.044e-02  10.571\n",
       "occupation Farming-fishing                -7.843e-01  1.347e-01  -5.824\n",
       "occupation Handlers-cleaners              -8.728e-01  1.430e-01  -6.105\n",
       "occupation Machine-op-inspct              -3.429e-01  1.030e-01  -3.327\n",
       "occupation Other-service                  -9.142e-01  1.163e-01  -7.860\n",
       "occupation Priv-house-serv                -1.487e+00  7.751e-01  -1.919\n",
       "occupation Prof-specialty                  5.004e-01  8.504e-02   5.884\n",
       "occupation Protective-serv                 5.705e-01  1.350e-01   4.226\n",
       "occupation Sales                           2.226e-01  8.547e-02   2.605\n",
       "occupation Tech-support                    7.630e-01  1.194e-01   6.393\n",
       "occupation Transport-moving               -9.715e-02  1.023e-01  -0.950\n",
       "relationship Not-in-family                 1.239e+00  2.717e-01   4.560\n",
       "relationship Other-relative               -4.822e-01  2.619e-01  -1.841\n",
       "relationship Own-child                     3.450e-02  2.633e-01   0.131\n",
       "relationship Unmarried                     9.027e-01  2.868e-01   3.147\n",
       "relationship Wife                          1.452e+00  1.058e-01  13.735\n",
       "race Asian-Pac-Islander                    5.476e-01  2.897e-01   1.890\n",
       "race Black                                 1.866e-01  2.347e-01   0.795\n",
       "race Other                                -4.026e-02  3.724e-01  -0.108\n",
       "race White                                 3.794e-01  2.236e-01   1.697\n",
       "sex Male                                   9.025e-01  7.341e-02  12.293\n",
       "native.country Canada                     -1.235e+00  1.099e+00  -1.124\n",
       "native.country China                      -1.754e+00  1.124e+00  -1.561\n",
       "native.country Columbia                   -3.413e+00  1.232e+00  -2.771\n",
       "native.country Cuba                       -6.610e-01  1.116e+00  -0.592\n",
       "native.country Dominican-Republic         -4.286e+00  1.462e+00  -2.932\n",
       "native.country Ecuador                    -7.134e-01  1.240e+00  -0.575\n",
       "native.country El-Salvador                -2.629e+00  1.194e+00  -2.202\n",
       "native.country England                    -7.113e-01  1.111e+00  -0.640\n",
       "native.country France                      4.265e-01  1.294e+00   0.330\n",
       "native.country Germany                    -9.919e-01  1.090e+00  -0.910\n",
       "native.country Greece                     -1.633e+00  1.302e+00  -1.255\n",
       "native.country Guatemala                  -1.217e+00  1.188e+00  -1.025\n",
       "native.country Haiti                      -8.412e-01  1.312e+00  -0.641\n",
       "native.country Holand-Netherlands         -1.214e+01  8.827e+02  -0.014\n",
       "native.country Honduras                   -1.240e+01  3.903e+02  -0.032\n",
       "native.country Hong                       -1.520e+00  1.243e+00  -1.222\n",
       "native.country Hungary                    -1.088e+00  1.238e+00  -0.879\n",
       "native.country India                      -2.625e+00  1.096e+00  -2.394\n",
       "native.country Iran                       -1.787e+00  1.182e+00  -1.512\n",
       "native.country Ireland                     3.438e-01  1.283e+00   0.268\n",
       "native.country Italy                      -1.222e+00  1.126e+00  -1.086\n",
       "native.country Jamaica                    -1.342e+00  1.124e+00  -1.195\n",
       "native.country Japan                      -6.575e-01  1.140e+00  -0.577\n",
       "native.country Laos                       -1.765e+00  1.303e+00  -1.354\n",
       "native.country Mexico                     -1.702e+00  1.082e+00  -1.573\n",
       "native.country Nicaragua                  -1.763e+00  1.611e+00  -1.094\n",
       "native.country Outlying-US(Guam-USVI-etc) -1.456e+01  2.398e+02  -0.061\n",
       "native.country Peru                       -2.029e+00  1.209e+00  -1.677\n",
       "native.country Philippines                -1.306e+00  1.071e+00  -1.219\n",
       "native.country Poland                     -1.248e+00  1.164e+00  -1.072\n",
       "native.country Portugal                   -1.896e+00  1.259e+00  -1.506\n",
       "native.country Puerto-Rico                -2.004e+00  1.141e+00  -1.757\n",
       "native.country Scotland                   -2.650e+00  1.700e+00  -1.558\n",
       "native.country South                      -2.596e+00  1.126e+00  -2.306\n",
       "native.country Taiwan                     -2.476e+00  1.173e+00  -2.112\n",
       "native.country Thailand                   -7.219e-01  1.522e+00  -0.474\n",
       "native.country Trinadad&Tobago            -1.976e+00  1.439e+00  -1.373\n",
       "native.country United-States              -1.321e+00  1.064e+00  -1.242\n",
       "native.country Vietnam                    -4.349e+00  1.281e+00  -3.394\n",
       "native.country Yugoslavia                 -2.146e+00  1.270e+00  -1.691\n",
       "                                          Pr(>|z|)    \n",
       "(Intercept)                               3.72e-07 ***\n",
       "fnlwgt                                    8.18e-06 ***\n",
       "capital.gain                               < 2e-16 ***\n",
       "capital.loss                               < 2e-16 ***\n",
       "hours.per.week                             < 2e-16 ***\n",
       "age                                        < 2e-16 ***\n",
       "education.num                             0.027599 *  \n",
       "workclass Local-gov                       2.57e-14 ***\n",
       "workclass Private                         2.36e-12 ***\n",
       "workclass Self-emp-inc                    0.001597 ** \n",
       "workclass Self-emp-not-inc                 < 2e-16 ***\n",
       "workclass State-gov                       6.27e-13 ***\n",
       "workclass Without-pay                     0.947858    \n",
       "education 11th                            0.460061    \n",
       "education 12th                            0.022324 *  \n",
       "education 1st-4th                         0.338381    \n",
       "education 5th-6th                         0.397088    \n",
       "education 7th-8th                         0.115905    \n",
       "education 9th                             0.349024    \n",
       "education Assoc-acdm                      2.47e-08 ***\n",
       "education Assoc-voc                       4.01e-13 ***\n",
       "education Bachelors                       2.38e-16 ***\n",
       "education Doctorate                       1.38e-15 ***\n",
       "education HS-grad                         2.72e-07 ***\n",
       "education Masters                          < 2e-16 ***\n",
       "education Preschool                       0.942319    \n",
       "education Prof-school                      < 2e-16 ***\n",
       "education Some-college                    1.04e-10 ***\n",
       "marital.status Married-AF-spouse          5.07e-12 ***\n",
       "marital.status Married-civ-spouse          < 2e-16 ***\n",
       "marital.status Married-spouse-absent      0.432857    \n",
       "marital.status Never-married              2.44e-05 ***\n",
       "marital.status Separated                  0.890165    \n",
       "marital.status Widowed                    0.049686 *  \n",
       "occupation Armed-Forces                   0.375394    \n",
       "occupation Craft-repair                   0.918094    \n",
       "occupation Exec-managerial                 < 2e-16 ***\n",
       "occupation Farming-fishing                5.76e-09 ***\n",
       "occupation Handlers-cleaners              1.03e-09 ***\n",
       "occupation Machine-op-inspct              0.000877 ***\n",
       "occupation Other-service                  3.83e-15 ***\n",
       "occupation Priv-house-serv                0.055037 .  \n",
       "occupation Prof-specialty                 4.00e-09 ***\n",
       "occupation Protective-serv                2.38e-05 ***\n",
       "occupation Sales                          0.009199 ** \n",
       "occupation Tech-support                   1.63e-10 ***\n",
       "occupation Transport-moving               0.342218    \n",
       "relationship Not-in-family                5.12e-06 ***\n",
       "relationship Other-relative               0.065664 .  \n",
       "relationship Own-child                    0.895753    \n",
       "relationship Unmarried                    0.001650 ** \n",
       "relationship Wife                          < 2e-16 ***\n",
       "race Asian-Pac-Islander                   0.058699 .  \n",
       "race Black                                0.426545    \n",
       "race Other                                0.913921    \n",
       "race White                                0.089647 .  \n",
       "sex Male                                   < 2e-16 ***\n",
       "native.country Canada                     0.260867    \n",
       "native.country China                      0.118607    \n",
       "native.country Columbia                   0.005597 ** \n",
       "native.country Cuba                       0.553641    \n",
       "native.country Dominican-Republic         0.003369 ** \n",
       "native.country Ecuador                    0.565147    \n",
       "native.country El-Salvador                0.027690 *  \n",
       "native.country England                    0.522100    \n",
       "native.country France                     0.741654    \n",
       "native.country Germany                    0.362755    \n",
       "native.country Greece                     0.209490    \n",
       "native.country Guatemala                  0.305340    \n",
       "native.country Haiti                      0.521567    \n",
       "native.country Holand-Netherlands         0.989027    \n",
       "native.country Honduras                   0.974655    \n",
       "native.country Hong                       0.221546    \n",
       "native.country Hungary                    0.379316    \n",
       "native.country India                      0.016652 *  \n",
       "native.country Iran                       0.130636    \n",
       "native.country Ireland                    0.788814    \n",
       "native.country Italy                      0.277698    \n",
       "native.country Jamaica                    0.232234    \n",
       "native.country Japan                      0.564186    \n",
       "native.country Laos                       0.175643    \n",
       "native.country Mexico                     0.115717    \n",
       "native.country Nicaragua                  0.273867    \n",
       "native.country Outlying-US(Guam-USVI-etc) 0.951579    \n",
       "native.country Peru                       0.093488 .  \n",
       "native.country Philippines                0.222956    \n",
       "native.country Poland                     0.283793    \n",
       "native.country Portugal                   0.132012    \n",
       "native.country Puerto-Rico                0.078968 .  \n",
       "native.country Scotland                   0.119147    \n",
       "native.country South                      0.021085 *  \n",
       "native.country Taiwan                     0.034718 *  \n",
       "native.country Thailand                   0.635197    \n",
       "native.country Trinadad&Tobago            0.169674    \n",
       "native.country United-States              0.214308    \n",
       "native.country Vietnam                    0.000688 ***\n",
       "native.country Yugoslavia                 0.090915 .  \n",
       "---\n",
       "Signif. codes:  0 '***' 0.001 '**' 0.01 '*' 0.05 '.' 0.1 ' ' 1\n",
       "\n",
       "(Dispersion parameter for binomial family taken to be 1)\n",
       "\n",
       "    Null deviance: 30636  on 22101  degrees of freedom\n",
       "Residual deviance: 17605  on 22005  degrees of freedom\n",
       "AIC: 17799\n",
       "\n",
       "Number of Fisher Scoring iterations: 13\n"
      ]
     },
     "metadata": {},
     "output_type": "display_data"
    }
   ],
   "source": [
    "glm.fit1<- glm(salary~., family=binomial,data = data_rose)\n",
    "summary(glm.fit1)"
   ]
  },
  {
   "cell_type": "code",
   "execution_count": 55,
   "id": "6cd856bc",
   "metadata": {},
   "outputs": [
    {
     "data": {
      "text/plain": [
       "        predicted\n",
       "actual   FALSE TRUE\n",
       "   <=50K  4732 1227\n",
       "   >50K    353 1725"
      ]
     },
     "metadata": {},
     "output_type": "display_data"
    },
    {
     "data": {
      "image/png": "[encoded data removed]",
      "text/plain": [
       "Plot with title \"Histogram of glm.pred1\""
      ]
     },
     "metadata": {
      "image/png": {
       "height": 420,
       "width": 420
      }
     },
     "output_type": "display_data"
    }
   ],
   "source": [
    "set.seed(123)\n",
    "glm.pred1<- predict(glm.fit1, test.data, type = \"response\")\n",
    "hist(glm.pred1, breaks=20)\n",
    "hist(glm.pred1[test.data$salary], col=\"red\", breaks=20, add=TRUE)\n",
    "\n",
    "table(actual= test.data$salary, predicted= glm.pred1>0.5)"
   ]
  },
  {
   "cell_type": "code",
   "execution_count": 56,
   "id": "9b70483c",
   "metadata": {},
   "outputs": [
    {
     "data": {
      "text/html": [
       "0.80340923230061"
      ],
      "text/latex": [
       "0.80340923230061"
      ],
      "text/markdown": [
       "0.80340923230061"
      ],
      "text/plain": [
       "[1] 0.8034092"
      ]
     },
     "metadata": {},
     "output_type": "display_data"
    },
    {
     "data": {
      "text/html": [
       "0.930580137659784"
      ],
      "text/latex": [
       "0.930580137659784"
      ],
      "text/markdown": [
       "0.930580137659784"
      ],
      "text/plain": [
       "[1] 0.9305801"
      ]
     },
     "metadata": {},
     "output_type": "display_data"
    },
    {
     "data": {
      "text/html": [
       "0.584349593495935"
      ],
      "text/latex": [
       "0.584349593495935"
      ],
      "text/markdown": [
       "0.584349593495935"
      ],
      "text/plain": [
       "[1] 0.5843496"
      ]
     },
     "metadata": {},
     "output_type": "display_data"
    }
   ],
   "source": [
    "(4732+1725)/8037\n",
    "4732/(4732+353)\n",
    "1725/(1725+1227)"
   ]
  },
  {
   "cell_type": "code",
   "execution_count": null,
   "id": "9e53267f",
   "metadata": {},
   "outputs": [],
   "source": []
  }
 ],
 "metadata": {
  "kernelspec": {
   "display_name": "R",
   "language": "R",
   "name": "ir"
  },
  "language_info": {
   "codemirror_mode": "r",
   "file_extension": ".r",
   "mimetype": "text/x-r-source",
   "name": "R",
   "pygments_lexer": "r",
   "version": "4.2.2"
  }
 },
 "nbformat": 4,
 "nbformat_minor": 5
}
